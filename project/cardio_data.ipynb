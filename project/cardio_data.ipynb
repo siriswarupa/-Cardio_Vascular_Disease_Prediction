{
 "cells": [
  {
   "cell_type": "code",
   "execution_count": 1,
   "metadata": {},
   "outputs": [],
   "source": [
    "import pandas as pd \n",
    "df = pd.read_csv(\"cardio_train.csv\",sep=\";\")"
   ]
  },
  {
   "cell_type": "markdown",
   "metadata": {},
   "source": [
    "# Data Analysis"
   ]
  },
  {
   "cell_type": "code",
   "execution_count": 2,
   "metadata": {},
   "outputs": [
    {
     "data": {
      "text/html": [
       "<div>\n",
       "<style scoped>\n",
       "    .dataframe tbody tr th:only-of-type {\n",
       "        vertical-align: middle;\n",
       "    }\n",
       "\n",
       "    .dataframe tbody tr th {\n",
       "        vertical-align: top;\n",
       "    }\n",
       "\n",
       "    .dataframe thead th {\n",
       "        text-align: right;\n",
       "    }\n",
       "</style>\n",
       "<table border=\"1\" class=\"dataframe\">\n",
       "  <thead>\n",
       "    <tr style=\"text-align: right;\">\n",
       "      <th></th>\n",
       "      <th>id</th>\n",
       "      <th>age</th>\n",
       "      <th>gender</th>\n",
       "      <th>height</th>\n",
       "      <th>weight</th>\n",
       "      <th>ap_hi</th>\n",
       "      <th>ap_lo</th>\n",
       "      <th>cholesterol</th>\n",
       "      <th>gluc</th>\n",
       "      <th>smoke</th>\n",
       "      <th>alco</th>\n",
       "      <th>active</th>\n",
       "      <th>cardio</th>\n",
       "    </tr>\n",
       "  </thead>\n",
       "  <tbody>\n",
       "    <tr>\n",
       "      <th>0</th>\n",
       "      <td>0</td>\n",
       "      <td>18393</td>\n",
       "      <td>2</td>\n",
       "      <td>168</td>\n",
       "      <td>62.0</td>\n",
       "      <td>110</td>\n",
       "      <td>80</td>\n",
       "      <td>1</td>\n",
       "      <td>1</td>\n",
       "      <td>0</td>\n",
       "      <td>0</td>\n",
       "      <td>1</td>\n",
       "      <td>0</td>\n",
       "    </tr>\n",
       "    <tr>\n",
       "      <th>1</th>\n",
       "      <td>1</td>\n",
       "      <td>20228</td>\n",
       "      <td>1</td>\n",
       "      <td>156</td>\n",
       "      <td>85.0</td>\n",
       "      <td>140</td>\n",
       "      <td>90</td>\n",
       "      <td>3</td>\n",
       "      <td>1</td>\n",
       "      <td>0</td>\n",
       "      <td>0</td>\n",
       "      <td>1</td>\n",
       "      <td>1</td>\n",
       "    </tr>\n",
       "    <tr>\n",
       "      <th>2</th>\n",
       "      <td>2</td>\n",
       "      <td>18857</td>\n",
       "      <td>1</td>\n",
       "      <td>165</td>\n",
       "      <td>64.0</td>\n",
       "      <td>130</td>\n",
       "      <td>70</td>\n",
       "      <td>3</td>\n",
       "      <td>1</td>\n",
       "      <td>0</td>\n",
       "      <td>0</td>\n",
       "      <td>0</td>\n",
       "      <td>1</td>\n",
       "    </tr>\n",
       "    <tr>\n",
       "      <th>3</th>\n",
       "      <td>3</td>\n",
       "      <td>17623</td>\n",
       "      <td>2</td>\n",
       "      <td>169</td>\n",
       "      <td>82.0</td>\n",
       "      <td>150</td>\n",
       "      <td>100</td>\n",
       "      <td>1</td>\n",
       "      <td>1</td>\n",
       "      <td>0</td>\n",
       "      <td>0</td>\n",
       "      <td>1</td>\n",
       "      <td>1</td>\n",
       "    </tr>\n",
       "    <tr>\n",
       "      <th>4</th>\n",
       "      <td>4</td>\n",
       "      <td>17474</td>\n",
       "      <td>1</td>\n",
       "      <td>156</td>\n",
       "      <td>56.0</td>\n",
       "      <td>100</td>\n",
       "      <td>60</td>\n",
       "      <td>1</td>\n",
       "      <td>1</td>\n",
       "      <td>0</td>\n",
       "      <td>0</td>\n",
       "      <td>0</td>\n",
       "      <td>0</td>\n",
       "    </tr>\n",
       "  </tbody>\n",
       "</table>\n",
       "</div>"
      ],
      "text/plain": [
       "   id    age  gender  height  weight  ap_hi  ap_lo  cholesterol  gluc  smoke  \\\n",
       "0   0  18393       2     168    62.0    110     80            1     1      0   \n",
       "1   1  20228       1     156    85.0    140     90            3     1      0   \n",
       "2   2  18857       1     165    64.0    130     70            3     1      0   \n",
       "3   3  17623       2     169    82.0    150    100            1     1      0   \n",
       "4   4  17474       1     156    56.0    100     60            1     1      0   \n",
       "\n",
       "   alco  active  cardio  \n",
       "0     0       1       0  \n",
       "1     0       1       1  \n",
       "2     0       0       1  \n",
       "3     0       1       1  \n",
       "4     0       0       0  "
      ]
     },
     "execution_count": 2,
     "metadata": {},
     "output_type": "execute_result"
    }
   ],
   "source": [
    "df.head()"
   ]
  },
  {
   "cell_type": "code",
   "execution_count": 3,
   "metadata": {},
   "outputs": [
    {
     "name": "stdout",
     "output_type": "stream",
     "text": [
      "<class 'pandas.core.frame.DataFrame'>\n",
      "RangeIndex: 70000 entries, 0 to 69999\n",
      "Data columns (total 13 columns):\n",
      " #   Column       Non-Null Count  Dtype  \n",
      "---  ------       --------------  -----  \n",
      " 0   id           70000 non-null  int64  \n",
      " 1   age          70000 non-null  int64  \n",
      " 2   gender       70000 non-null  int64  \n",
      " 3   height       70000 non-null  int64  \n",
      " 4   weight       70000 non-null  float64\n",
      " 5   ap_hi        70000 non-null  int64  \n",
      " 6   ap_lo        70000 non-null  int64  \n",
      " 7   cholesterol  70000 non-null  int64  \n",
      " 8   gluc         70000 non-null  int64  \n",
      " 9   smoke        70000 non-null  int64  \n",
      " 10  alco         70000 non-null  int64  \n",
      " 11  active       70000 non-null  int64  \n",
      " 12  cardio       70000 non-null  int64  \n",
      "dtypes: float64(1), int64(12)\n",
      "memory usage: 6.9 MB\n"
     ]
    }
   ],
   "source": [
    "df.info()"
   ]
  },
  {
   "cell_type": "markdown",
   "metadata": {},
   "source": [
    "All features are numerical, 12 integers and 1 decimal number (weight). "
   ]
  },
  {
   "cell_type": "code",
   "execution_count": 11,
   "metadata": {},
   "outputs": [
    {
     "name": "stdout",
     "output_type": "stream",
     "text": [
      "0 - absence of HD\n",
      "1 - presence of HD\n",
      "0    35004\n",
      "1    34972\n",
      "Name: cardio, dtype: int64\n"
     ]
    },
    {
     "data": {
      "image/png": "[encoded data removed]",
      "text/plain": [
       "<Figure size 432x432 with 1 Axes>"
      ]
     },
     "metadata": {
      "needs_background": "light"
     },
     "output_type": "display_data"
    }
   ],
   "source": [
    "from matplotlib import pyplot as plt\n",
    "print(\"0 - absence of HD\")\n",
    "print(\"1 - presence of HD\")\n",
    "print(df.cardio.value_counts())\n",
    "# 0 - absence of HD\n",
    "# 1 - presence of HD\n",
    "plt.figure(figsize=(6, 6))\n",
    "plt.bar(df['cardio'].unique(), df['cardio'].value_counts(), color = ['green', 'red'],width=0.2)\n",
    "plt.ylabel('Count')\n",
    "plt.title('Count of each Target Class', size = 25)\n",
    "plt.show()"
   ]
  },
  {
   "cell_type": "markdown",
   "metadata": {},
   "source": [
    "id: An identifier for each individual in the dataset.\n",
    "age: The age of the individual (in days).\n",
    "gender: Gender (1 for female, 2 for male).\n",
    "height: Height in centimeters.\n",
    "weight: Weight in kilograms.\n",
    "ap_hi: Systolic blood pressure (measured in mmHg).\n",
    "ap_lo: Diastolic blood pressure (measured in mmHg).\n",
    "cholesterol: Cholesterol level (1, 2, or 3).\n",
    "gluc: Glucose level (1, 2, or 3).\n",
    "smoke: Whether the individual smokes (0 for no, 1 for yes).\n",
    "alco: Whether the individual consumes alcohol (0 for no, 1 for yes).\n",
    "active: Whether the individual is physically active (0 for no, 1 for yes).\n",
    "cardio: Presence of cardiovascular disease (0 for no, 1 for yes).\""
   ]
  },
  {
   "cell_type": "markdown",
   "metadata": {},
   "source": [
    "# preprocessing"
   ]
  },
  {
   "cell_type": "code",
   "execution_count": 4,
   "metadata": {},
   "outputs": [],
   "source": [
    "df.drop(columns=['id'], inplace=True)"
   ]
  },
  {
   "cell_type": "code",
   "execution_count": 5,
   "metadata": {},
   "outputs": [
    {
     "data": {
      "text/html": [
       "<div>\n",
       "<style scoped>\n",
       "    .dataframe tbody tr th:only-of-type {\n",
       "        vertical-align: middle;\n",
       "    }\n",
       "\n",
       "    .dataframe tbody tr th {\n",
       "        vertical-align: top;\n",
       "    }\n",
       "\n",
       "    .dataframe thead th {\n",
       "        text-align: right;\n",
       "    }\n",
       "</style>\n",
       "<table border=\"1\" class=\"dataframe\">\n",
       "  <thead>\n",
       "    <tr style=\"text-align: right;\">\n",
       "      <th></th>\n",
       "      <th>age</th>\n",
       "      <th>gender</th>\n",
       "      <th>height</th>\n",
       "      <th>weight</th>\n",
       "      <th>ap_hi</th>\n",
       "      <th>ap_lo</th>\n",
       "      <th>cholesterol</th>\n",
       "      <th>gluc</th>\n",
       "      <th>smoke</th>\n",
       "      <th>alco</th>\n",
       "      <th>active</th>\n",
       "      <th>cardio</th>\n",
       "    </tr>\n",
       "  </thead>\n",
       "  <tbody>\n",
       "    <tr>\n",
       "      <th>0</th>\n",
       "      <td>18393</td>\n",
       "      <td>2</td>\n",
       "      <td>168</td>\n",
       "      <td>62.0</td>\n",
       "      <td>110</td>\n",
       "      <td>80</td>\n",
       "      <td>1</td>\n",
       "      <td>1</td>\n",
       "      <td>0</td>\n",
       "      <td>0</td>\n",
       "      <td>1</td>\n",
       "      <td>0</td>\n",
       "    </tr>\n",
       "    <tr>\n",
       "      <th>1</th>\n",
       "      <td>20228</td>\n",
       "      <td>1</td>\n",
       "      <td>156</td>\n",
       "      <td>85.0</td>\n",
       "      <td>140</td>\n",
       "      <td>90</td>\n",
       "      <td>3</td>\n",
       "      <td>1</td>\n",
       "      <td>0</td>\n",
       "      <td>0</td>\n",
       "      <td>1</td>\n",
       "      <td>1</td>\n",
       "    </tr>\n",
       "    <tr>\n",
       "      <th>2</th>\n",
       "      <td>18857</td>\n",
       "      <td>1</td>\n",
       "      <td>165</td>\n",
       "      <td>64.0</td>\n",
       "      <td>130</td>\n",
       "      <td>70</td>\n",
       "      <td>3</td>\n",
       "      <td>1</td>\n",
       "      <td>0</td>\n",
       "      <td>0</td>\n",
       "      <td>0</td>\n",
       "      <td>1</td>\n",
       "    </tr>\n",
       "    <tr>\n",
       "      <th>3</th>\n",
       "      <td>17623</td>\n",
       "      <td>2</td>\n",
       "      <td>169</td>\n",
       "      <td>82.0</td>\n",
       "      <td>150</td>\n",
       "      <td>100</td>\n",
       "      <td>1</td>\n",
       "      <td>1</td>\n",
       "      <td>0</td>\n",
       "      <td>0</td>\n",
       "      <td>1</td>\n",
       "      <td>1</td>\n",
       "    </tr>\n",
       "    <tr>\n",
       "      <th>4</th>\n",
       "      <td>17474</td>\n",
       "      <td>1</td>\n",
       "      <td>156</td>\n",
       "      <td>56.0</td>\n",
       "      <td>100</td>\n",
       "      <td>60</td>\n",
       "      <td>1</td>\n",
       "      <td>1</td>\n",
       "      <td>0</td>\n",
       "      <td>0</td>\n",
       "      <td>0</td>\n",
       "      <td>0</td>\n",
       "    </tr>\n",
       "    <tr>\n",
       "      <th>...</th>\n",
       "      <td>...</td>\n",
       "      <td>...</td>\n",
       "      <td>...</td>\n",
       "      <td>...</td>\n",
       "      <td>...</td>\n",
       "      <td>...</td>\n",
       "      <td>...</td>\n",
       "      <td>...</td>\n",
       "      <td>...</td>\n",
       "      <td>...</td>\n",
       "      <td>...</td>\n",
       "      <td>...</td>\n",
       "    </tr>\n",
       "    <tr>\n",
       "      <th>69995</th>\n",
       "      <td>19240</td>\n",
       "      <td>2</td>\n",
       "      <td>168</td>\n",
       "      <td>76.0</td>\n",
       "      <td>120</td>\n",
       "      <td>80</td>\n",
       "      <td>1</td>\n",
       "      <td>1</td>\n",
       "      <td>1</td>\n",
       "      <td>0</td>\n",
       "      <td>1</td>\n",
       "      <td>0</td>\n",
       "    </tr>\n",
       "    <tr>\n",
       "      <th>69996</th>\n",
       "      <td>22601</td>\n",
       "      <td>1</td>\n",
       "      <td>158</td>\n",
       "      <td>126.0</td>\n",
       "      <td>140</td>\n",
       "      <td>90</td>\n",
       "      <td>2</td>\n",
       "      <td>2</td>\n",
       "      <td>0</td>\n",
       "      <td>0</td>\n",
       "      <td>1</td>\n",
       "      <td>1</td>\n",
       "    </tr>\n",
       "    <tr>\n",
       "      <th>69997</th>\n",
       "      <td>19066</td>\n",
       "      <td>2</td>\n",
       "      <td>183</td>\n",
       "      <td>105.0</td>\n",
       "      <td>180</td>\n",
       "      <td>90</td>\n",
       "      <td>3</td>\n",
       "      <td>1</td>\n",
       "      <td>0</td>\n",
       "      <td>1</td>\n",
       "      <td>0</td>\n",
       "      <td>1</td>\n",
       "    </tr>\n",
       "    <tr>\n",
       "      <th>69998</th>\n",
       "      <td>22431</td>\n",
       "      <td>1</td>\n",
       "      <td>163</td>\n",
       "      <td>72.0</td>\n",
       "      <td>135</td>\n",
       "      <td>80</td>\n",
       "      <td>1</td>\n",
       "      <td>2</td>\n",
       "      <td>0</td>\n",
       "      <td>0</td>\n",
       "      <td>0</td>\n",
       "      <td>1</td>\n",
       "    </tr>\n",
       "    <tr>\n",
       "      <th>69999</th>\n",
       "      <td>20540</td>\n",
       "      <td>1</td>\n",
       "      <td>170</td>\n",
       "      <td>72.0</td>\n",
       "      <td>120</td>\n",
       "      <td>80</td>\n",
       "      <td>2</td>\n",
       "      <td>1</td>\n",
       "      <td>0</td>\n",
       "      <td>0</td>\n",
       "      <td>1</td>\n",
       "      <td>0</td>\n",
       "    </tr>\n",
       "  </tbody>\n",
       "</table>\n",
       "<p>70000 rows × 12 columns</p>\n",
       "</div>"
      ],
      "text/plain": [
       "         age  gender  height  weight  ap_hi  ap_lo  cholesterol  gluc  smoke  \\\n",
       "0      18393       2     168    62.0    110     80            1     1      0   \n",
       "1      20228       1     156    85.0    140     90            3     1      0   \n",
       "2      18857       1     165    64.0    130     70            3     1      0   \n",
       "3      17623       2     169    82.0    150    100            1     1      0   \n",
       "4      17474       1     156    56.0    100     60            1     1      0   \n",
       "...      ...     ...     ...     ...    ...    ...          ...   ...    ...   \n",
       "69995  19240       2     168    76.0    120     80            1     1      1   \n",
       "69996  22601       1     158   126.0    140     90            2     2      0   \n",
       "69997  19066       2     183   105.0    180     90            3     1      0   \n",
       "69998  22431       1     163    72.0    135     80            1     2      0   \n",
       "69999  20540       1     170    72.0    120     80            2     1      0   \n",
       "\n",
       "       alco  active  cardio  \n",
       "0         0       1       0  \n",
       "1         0       1       1  \n",
       "2         0       0       1  \n",
       "3         0       1       1  \n",
       "4         0       0       0  \n",
       "...     ...     ...     ...  \n",
       "69995     0       1       0  \n",
       "69996     0       1       1  \n",
       "69997     1       0       1  \n",
       "69998     0       0       1  \n",
       "69999     0       1       0  \n",
       "\n",
       "[70000 rows x 12 columns]"
      ]
     },
     "execution_count": 5,
     "metadata": {},
     "output_type": "execute_result"
    }
   ],
   "source": [
    "df"
   ]
  },
  {
   "cell_type": "code",
   "execution_count": 7,
   "metadata": {},
   "outputs": [
    {
     "name": "stdout",
     "output_type": "stream",
     "text": [
      "Requirement already satisfied: matplotlib in c:\\users\\meesala ramya\\anaconda3\\lib\\site-packages (3.4.3)\n",
      "Collecting matplotlib\n",
      "  Downloading matplotlib-3.8.3-cp39-cp39-win_amd64.whl (7.6 MB)\n",
      "Requirement already satisfied: packaging>=20.0 in c:\\users\\meesala ramya\\anaconda3\\lib\\site-packages (from matplotlib) (21.0)\n",
      "Note: you may need to restart the kernel to use updated packages.\n"
     ]
    },
    {
     "name": "stderr",
     "output_type": "stream",
     "text": [
      "WARNING: Ignoring invalid distribution -cikit-learn (c:\\users\\meesala ramya\\anaconda3\\lib\\site-packages)\n",
      "WARNING: Ignoring invalid distribution -cikit-learn (c:\\users\\meesala ramya\\anaconda3\\lib\\site-packages)\n",
      "WARNING: Ignoring invalid distribution -cikit-learn (c:\\users\\meesala ramya\\anaconda3\\lib\\site-packages)\n",
      "    WARNING: Ignoring invalid distribution -cikit-learn (c:\\users\\meesala ramya\\anaconda3\\lib\\site-packages)\n",
      "    WARNING: Ignoring invalid distribution -cikit-learn (c:\\users\\meesala ramya\\anaconda3\\lib\\site-packages)\n",
      "ERROR: Could not install packages due to an OSError: [WinError 32] The process cannot access the file because it is being used by another process: 'c:\\\\users\\\\meesala ramya\\\\anaconda3\\\\lib\\\\site-packages\\\\matplotlib\\\\mpl-data\\\\fonts\\\\ttf\\\\DejaVuSans.ttf'\n",
      "Consider using the `--user` option or check the permissions.\n",
      "\n",
      "WARNING: Ignoring invalid distribution -cikit-learn (c:\\users\\meesala ramya\\anaconda3\\lib\\site-packages)"
     ]
    },
    {
     "name": "stdout",
     "output_type": "stream",
     "text": [
      "Requirement already satisfied: pyparsing>=2.3.1 in c:\\users\\meesala ramya\\anaconda3\\lib\\site-packages (from matplotlib) (3.0.4)\n",
      "Collecting contourpy>=1.0.1\n",
      "  Downloading contourpy-1.2.0-cp39-cp39-win_amd64.whl (181 kB)\n",
      "Requirement already satisfied: pillow>=8 in c:\\users\\meesala ramya\\anaconda3\\lib\\site-packages (from matplotlib) (8.4.0)\n",
      "Collecting numpy<2,>=1.21\n",
      "  Downloading numpy-1.26.4-cp39-cp39-win_amd64.whl (15.8 MB)\n",
      "Requirement already satisfied: python-dateutil>=2.7 in c:\\users\\meesala ramya\\anaconda3\\lib\\site-packages (from matplotlib) (2.8.2)\n",
      "Requirement already satisfied: cycler>=0.10 in c:\\users\\meesala ramya\\anaconda3\\lib\\site-packages (from matplotlib) (0.10.0)\n",
      "Collecting importlib-resources>=3.2.0\n",
      "  Downloading importlib_resources-6.4.0-py3-none-any.whl (38 kB)\n",
      "Requirement already satisfied: kiwisolver>=1.3.1 in c:\\users\\meesala ramya\\anaconda3\\lib\\site-packages (from matplotlib) (1.3.1)\n",
      "Requirement already satisfied: fonttools>=4.22.0 in c:\\users\\meesala ramya\\anaconda3\\lib\\site-packages (from matplotlib) (4.25.0)\n",
      "Requirement already satisfied: six in c:\\users\\meesala ramya\\anaconda3\\lib\\site-packages (from cycler>=0.10->matplotlib) (1.16.0)\n",
      "Requirement already satisfied: zipp>=3.1.0 in c:\\users\\meesala ramya\\anaconda3\\lib\\site-packages (from importlib-resources>=3.2.0->matplotlib) (3.6.0)\n",
      "Installing collected packages: numpy, importlib-resources, contourpy, matplotlib\n",
      "  Attempting uninstall: numpy\n",
      "    Found existing installation: numpy 1.20.3\n",
      "    Uninstalling numpy-1.20.3:\n",
      "      Successfully uninstalled numpy-1.20.3\n",
      "  Attempting uninstall: matplotlib\n",
      "    Found existing installation: matplotlib 3.4.3\n",
      "    Uninstalling matplotlib-3.4.3:\n"
     ]
    },
    {
     "name": "stderr",
     "output_type": "stream",
     "text": [
      "\n",
      "WARNING: Ignoring invalid distribution -cikit-learn (c:\\users\\meesala ramya\\anaconda3\\lib\\site-packages)\n",
      "WARNING: Ignoring invalid distribution -cikit-learn (c:\\users\\meesala ramya\\anaconda3\\lib\\site-packages)\n"
     ]
    }
   ],
   "source": [
    "pip install --upgrade matplotlib"
   ]
  },
  {
   "cell_type": "code",
   "execution_count": 6,
   "metadata": {},
   "outputs": [
    {
     "name": "stdout",
     "output_type": "stream",
     "text": [
      "age            0\n",
      "gender         0\n",
      "height         0\n",
      "weight         0\n",
      "ap_hi          0\n",
      "ap_lo          0\n",
      "cholesterol    0\n",
      "gluc           0\n",
      "smoke          0\n",
      "alco           0\n",
      "active         0\n",
      "cardio         0\n",
      "dtype: int64\n"
     ]
    }
   ],
   "source": [
    "print(df.isnull().sum())"
   ]
  },
  {
   "cell_type": "code",
   "execution_count": 7,
   "metadata": {},
   "outputs": [
    {
     "data": {
      "text/plain": [
       "24"
      ]
     },
     "execution_count": 7,
     "metadata": {},
     "output_type": "execute_result"
    }
   ],
   "source": [
    "df.duplicated().sum()"
   ]
  },
  {
   "cell_type": "code",
   "execution_count": 8,
   "metadata": {},
   "outputs": [],
   "source": [
    "df.drop_duplicates(inplace=True)"
   ]
  },
  {
   "cell_type": "code",
   "execution_count": 9,
   "metadata": {},
   "outputs": [
    {
     "data": {
      "text/plain": [
       "0"
      ]
     },
     "execution_count": 9,
     "metadata": {},
     "output_type": "execute_result"
    }
   ],
   "source": [
    "df.duplicated().sum()"
   ]
  },
  {
   "cell_type": "code",
   "execution_count": 13,
   "metadata": {},
   "outputs": [
    {
     "name": "stdout",
     "output_type": "stream",
     "text": [
      "Requirement already satisfied: numpy in c:\\users\\meesala ramya\\anaconda3\\lib\\site-packages (1.26.4)\n",
      "Requirement already satisfied: seaborn in c:\\users\\meesala ramya\\anaconda3\\lib\\site-packages (0.11.2)\n",
      "Collecting seaborn\n",
      "  Downloading seaborn-0.13.2-py3-none-any.whl (294 kB)\n",
      "Collecting matplotlib!=3.6.1,>=3.4\n",
      "  Using cached matplotlib-3.8.3-cp39-cp39-win_amd64.whl (7.6 MB)\n",
      "Requirement already satisfied: pandas>=1.2 in c:\\users\\meesala ramya\\anaconda3\\lib\\site-packages (from seaborn) (1.3.4)\n",
      "Requirement already satisfied: contourpy>=1.0.1 in c:\\users\\meesala ramya\\anaconda3\\lib\\site-packages (from matplotlib!=3.6.1,>=3.4->seaborn) (1.2.0)\n",
      "Requirement already satisfied: importlib-resources>=3.2.0 in c:\\users\\meesala ramya\\anaconda3\\lib\\site-packages (from matplotlib!=3.6.1,>=3.4->seaborn) (6.4.0)\n",
      "Requirement already satisfied: fonttools>=4.22.0 in c:\\users\\meesala ramya\\anaconda3\\lib\\site-packages (from matplotlib!=3.6.1,>=3.4->seaborn) (4.25.0)\n",
      "Requirement already satisfied: pillow>=8 in c:\\users\\meesala ramya\\anaconda3\\lib\\site-packages (from matplotlib!=3.6.1,>=3.4->seaborn) (8.4.0)\n",
      "Requirement already satisfied: python-dateutil>=2.7 in c:\\users\\meesala ramya\\anaconda3\\lib\\site-packages (from matplotlib!=3.6.1,>=3.4->seaborn) (2.8.2)\n",
      "Requirement already satisfied: packaging>=20.0 in c:\\users\\meesala ramya\\anaconda3\\lib\\site-packages (from matplotlib!=3.6.1,>=3.4->seaborn) (21.0)\n",
      "Requirement already satisfied: cycler>=0.10 in c:\\users\\meesala ramya\\anaconda3\\lib\\site-packages (from matplotlib!=3.6.1,>=3.4->seaborn) (0.10.0)\n",
      "Requirement already satisfied: pyparsing>=2.3.1 in c:\\users\\meesala ramya\\anaconda3\\lib\\site-packages (from matplotlib!=3.6.1,>=3.4->seaborn) (3.0.4)\n",
      "Requirement already satisfied: kiwisolver>=1.3.1 in c:\\users\\meesala ramya\\anaconda3\\lib\\site-packages (from matplotlib!=3.6.1,>=3.4->seaborn) (1.3.1)\n",
      "Requirement already satisfied: six in c:\\users\\meesala ramya\\anaconda3\\lib\\site-packages (from cycler>=0.10->matplotlib!=3.6.1,>=3.4->seaborn) (1.16.0)\n",
      "Requirement already satisfied: zipp>=3.1.0 in c:\\users\\meesala ramya\\anaconda3\\lib\\site-packages (from importlib-resources>=3.2.0->matplotlib!=3.6.1,>=3.4->seaborn) (3.6.0)\n",
      "Requirement already satisfied: pytz>=2017.3 in c:\\users\\meesala ramya\\anaconda3\\lib\\site-packages (from pandas>=1.2->seaborn) (2021.3)\n",
      "Installing collected packages: matplotlib, seaborn\n",
      "Note: you may need to restart the kernel to use updated packages.\n"
     ]
    },
    {
     "name": "stderr",
     "output_type": "stream",
     "text": [
      "WARNING: Ignoring invalid distribution -cikit-learn (c:\\users\\meesala ramya\\anaconda3\\lib\\site-packages)\n",
      "WARNING: Ignoring invalid distribution -atplotlib (c:\\users\\meesala ramya\\anaconda3\\lib\\site-packages)\n",
      "WARNING: Ignoring invalid distribution -cikit-learn (c:\\users\\meesala ramya\\anaconda3\\lib\\site-packages)\n",
      "WARNING: Ignoring invalid distribution -atplotlib (c:\\users\\meesala ramya\\anaconda3\\lib\\site-packages)\n",
      "WARNING: Ignoring invalid distribution -cikit-learn (c:\\users\\meesala ramya\\anaconda3\\lib\\site-packages)\n",
      "WARNING: Ignoring invalid distribution -atplotlib (c:\\users\\meesala ramya\\anaconda3\\lib\\site-packages)\n",
      "ERROR: Could not install packages due to an OSError: [WinError 32] The process cannot access the file because it is being used by another process: 'c:\\\\Users\\\\MEESALA RAMYA\\\\anaconda3\\\\Lib\\\\site-packages\\\\matplotlib\\\\mpl-data\\\\fonts\\\\ttf\\\\DejaVuSans.ttf'\n",
      "Consider using the `--user` option or check the permissions.\n",
      "\n",
      "WARNING: Ignoring invalid distribution -cikit-learn (c:\\users\\meesala ramya\\anaconda3\\lib\\site-packages)\n",
      "WARNING: Ignoring invalid distribution -atplotlib (c:\\users\\meesala ramya\\anaconda3\\lib\\site-packages)\n",
      "WARNING: Ignoring invalid distribution -cikit-learn (c:\\users\\meesala ramya\\anaconda3\\lib\\site-packages)\n",
      "WARNING: Ignoring invalid distribution -atplotlib (c:\\users\\meesala ramya\\anaconda3\\lib\\site-packages)\n",
      "WARNING: Ignoring invalid distribution -cikit-learn (c:\\users\\meesala ramya\\anaconda3\\lib\\site-packages)\n",
      "WARNING: Ignoring invalid distribution -atplotlib (c:\\users\\meesala ramya\\anaconda3\\lib\\site-packages)\n"
     ]
    }
   ],
   "source": [
    "pip install --upgrade numpy seaborn\n"
   ]
  },
  {
   "cell_type": "code",
   "execution_count": 10,
   "metadata": {},
   "outputs": [
    {
     "data": {
      "image/png": "[encoded data removed]",
      "text/plain": [
       "<Figure size 864x576 with 12 Axes>"
      ]
     },
     "metadata": {
      "needs_background": "light"
     },
     "output_type": "display_data"
    }
   ],
   "source": [
    "import seaborn as sns\n",
    "import matplotlib.pyplot as plt\n",
    "num_cols = 3 \n",
    "# Calculate the number of rows needed\n",
    "num_rows = (len(df.columns) + num_cols - 1) // num_cols\n",
    "\n",
    "# Create subplots\n",
    "fig, axes = plt.subplots(num_rows, num_cols, figsize=(12, 8))\n",
    "\n",
    "# Flatten the axes array\n",
    "axes = axes.flatten()\n",
    "\n",
    "# Iterate through each feature and create a box plot\n",
    "for i, column in enumerate(df.columns):\n",
    "    sns.boxplot(data=df[column], ax=axes[i], orient=\"v\", palette=\"Set2\")\n",
    "    axes[i].set_title(f'Box plot of {column}')\n",
    "    axes[i].set_xlabel(column)\n",
    "\n",
    "# Show the plot\n",
    "plt.show()\n"
   ]
  },
  {
   "cell_type": "code",
   "execution_count": 12,
   "metadata": {},
   "outputs": [
    {
     "data": {
      "text/plain": [
       "60118"
      ]
     },
     "execution_count": 12,
     "metadata": {},
     "output_type": "execute_result"
    }
   ],
   "source": [
    "df.drop(df[(df['height'] > df['height'].quantile(0.975)) | (df['height'] < df['height'].quantile(0.025))].index,inplace=True)\n",
    "df.drop(df[(df['weight'] > df['weight'].quantile(0.975)) | (df['weight'] < df['weight'].quantile(0.025))].index,inplace=True)\n",
    "df.drop(df[(df['ap_hi'] > df['ap_hi'].quantile(0.975)) | (df['ap_hi'] < df['ap_hi'].quantile(0.025))].index,inplace=True)\n",
    "df.drop(df[(df['ap_lo'] > df['ap_lo'].quantile(0.975)) | (df['ap_lo'] < df['ap_lo'].quantile(0.025))].index,inplace=True)\n",
    "len(df)"
   ]
  },
  {
   "cell_type": "markdown",
   "metadata": {},
   "source": [
    "checking How many cases where diastolic pressure is higher than systolic"
   ]
  },
  {
   "cell_type": "code",
   "execution_count": 13,
   "metadata": {},
   "outputs": [
    {
     "data": {
      "text/plain": [
       "0"
      ]
     },
     "execution_count": 13,
     "metadata": {},
     "output_type": "execute_result"
    }
   ],
   "source": [
    "df[df['ap_lo']> df['ap_hi']].shape[0]"
   ]
  },
  {
   "cell_type": "markdown",
   "metadata": {},
   "source": [
    "Transformation: Converting age from days to years"
   ]
  },
  {
   "cell_type": "code",
   "execution_count": 14,
   "metadata": {},
   "outputs": [
    {
     "name": "stdout",
     "output_type": "stream",
     "text": [
      "   age  gender  height  weight  ap_hi  ap_lo  cholesterol  gluc  smoke  alco  \\\n",
      "0   50       2     168    62.0    110     80            1     1      0     0   \n",
      "1   55       1     156    85.0    140     90            3     1      0     0   \n",
      "2   52       1     165    64.0    130     70            3     1      0     0   \n",
      "3   48       2     169    82.0    150    100            1     1      0     0   \n",
      "4   48       1     156    56.0    100     60            1     1      0     0   \n",
      "\n",
      "   active  cardio  \n",
      "0       1       0  \n",
      "1       1       1  \n",
      "2       0       1  \n",
      "3       1       1  \n",
      "4       0       0  \n"
     ]
    }
   ],
   "source": [
    "df['age'] = (df['age'] / 365).round().astype('int')\n",
    "print(df.head())"
   ]
  },
  {
   "cell_type": "markdown",
   "metadata": {},
   "source": [
    "Categorizing features"
   ]
  },
  {
   "cell_type": "code",
   "execution_count": 15,
   "metadata": {},
   "outputs": [
    {
     "data": {
      "text/html": [
       "<div>\n",
       "<style scoped>\n",
       "    .dataframe tbody tr th:only-of-type {\n",
       "        vertical-align: middle;\n",
       "    }\n",
       "\n",
       "    .dataframe tbody tr th {\n",
       "        vertical-align: top;\n",
       "    }\n",
       "\n",
       "    .dataframe thead th {\n",
       "        text-align: right;\n",
       "    }\n",
       "</style>\n",
       "<table border=\"1\" class=\"dataframe\">\n",
       "  <thead>\n",
       "    <tr style=\"text-align: right;\">\n",
       "      <th></th>\n",
       "      <th>age</th>\n",
       "      <th>gender</th>\n",
       "      <th>height</th>\n",
       "      <th>weight</th>\n",
       "      <th>ap_hi</th>\n",
       "      <th>ap_lo</th>\n",
       "      <th>cholesterol</th>\n",
       "      <th>gluc</th>\n",
       "      <th>smoke</th>\n",
       "      <th>alco</th>\n",
       "      <th>active</th>\n",
       "      <th>cardio</th>\n",
       "      <th>age_group</th>\n",
       "    </tr>\n",
       "  </thead>\n",
       "  <tbody>\n",
       "    <tr>\n",
       "      <th>0</th>\n",
       "      <td>50</td>\n",
       "      <td>2</td>\n",
       "      <td>168</td>\n",
       "      <td>62.0</td>\n",
       "      <td>110</td>\n",
       "      <td>80</td>\n",
       "      <td>1</td>\n",
       "      <td>1</td>\n",
       "      <td>0</td>\n",
       "      <td>0</td>\n",
       "      <td>1</td>\n",
       "      <td>0</td>\n",
       "      <td>3</td>\n",
       "    </tr>\n",
       "    <tr>\n",
       "      <th>1</th>\n",
       "      <td>55</td>\n",
       "      <td>1</td>\n",
       "      <td>156</td>\n",
       "      <td>85.0</td>\n",
       "      <td>140</td>\n",
       "      <td>90</td>\n",
       "      <td>3</td>\n",
       "      <td>1</td>\n",
       "      <td>0</td>\n",
       "      <td>0</td>\n",
       "      <td>1</td>\n",
       "      <td>1</td>\n",
       "      <td>4</td>\n",
       "    </tr>\n",
       "    <tr>\n",
       "      <th>2</th>\n",
       "      <td>52</td>\n",
       "      <td>1</td>\n",
       "      <td>165</td>\n",
       "      <td>64.0</td>\n",
       "      <td>130</td>\n",
       "      <td>70</td>\n",
       "      <td>3</td>\n",
       "      <td>1</td>\n",
       "      <td>0</td>\n",
       "      <td>0</td>\n",
       "      <td>0</td>\n",
       "      <td>1</td>\n",
       "      <td>4</td>\n",
       "    </tr>\n",
       "    <tr>\n",
       "      <th>3</th>\n",
       "      <td>48</td>\n",
       "      <td>2</td>\n",
       "      <td>169</td>\n",
       "      <td>82.0</td>\n",
       "      <td>150</td>\n",
       "      <td>100</td>\n",
       "      <td>1</td>\n",
       "      <td>1</td>\n",
       "      <td>0</td>\n",
       "      <td>0</td>\n",
       "      <td>1</td>\n",
       "      <td>1</td>\n",
       "      <td>3</td>\n",
       "    </tr>\n",
       "    <tr>\n",
       "      <th>4</th>\n",
       "      <td>48</td>\n",
       "      <td>1</td>\n",
       "      <td>156</td>\n",
       "      <td>56.0</td>\n",
       "      <td>100</td>\n",
       "      <td>60</td>\n",
       "      <td>1</td>\n",
       "      <td>1</td>\n",
       "      <td>0</td>\n",
       "      <td>0</td>\n",
       "      <td>0</td>\n",
       "      <td>0</td>\n",
       "      <td>3</td>\n",
       "    </tr>\n",
       "  </tbody>\n",
       "</table>\n",
       "</div>"
      ],
      "text/plain": [
       "   age  gender  height  weight  ap_hi  ap_lo  cholesterol  gluc  smoke  alco  \\\n",
       "0   50       2     168    62.0    110     80            1     1      0     0   \n",
       "1   55       1     156    85.0    140     90            3     1      0     0   \n",
       "2   52       1     165    64.0    130     70            3     1      0     0   \n",
       "3   48       2     169    82.0    150    100            1     1      0     0   \n",
       "4   48       1     156    56.0    100     60            1     1      0     0   \n",
       "\n",
       "   active  cardio age_group  \n",
       "0       1       0         3  \n",
       "1       1       1         4  \n",
       "2       0       1         4  \n",
       "3       1       1         3  \n",
       "4       0       0         3  "
      ]
     },
     "execution_count": 15,
     "metadata": {},
     "output_type": "execute_result"
    }
   ],
   "source": [
    "# Defining bin edges and labels\n",
    "age_edges = [30, 35, 40, 45, 50, 55, 60, 65]\n",
    "age_labels = [0, 1, 2, 3, 4, 5, 6]\n",
    "#  bin in  5 years span\n",
    "df['age_group'] = pd.cut(df['age'], bins=7, labels=range(7))\n",
    "df.head()"
   ]
  },
  {
   "cell_type": "markdown",
   "metadata": {},
   "source": [
    "Attribute combination"
   ]
  },
  {
   "cell_type": "code",
   "execution_count": 16,
   "metadata": {},
   "outputs": [
    {
     "data": {
      "text/html": [
       "<div>\n",
       "<style scoped>\n",
       "    .dataframe tbody tr th:only-of-type {\n",
       "        vertical-align: middle;\n",
       "    }\n",
       "\n",
       "    .dataframe tbody tr th {\n",
       "        vertical-align: top;\n",
       "    }\n",
       "\n",
       "    .dataframe thead th {\n",
       "        text-align: right;\n",
       "    }\n",
       "</style>\n",
       "<table border=\"1\" class=\"dataframe\">\n",
       "  <thead>\n",
       "    <tr style=\"text-align: right;\">\n",
       "      <th></th>\n",
       "      <th>age</th>\n",
       "      <th>gender</th>\n",
       "      <th>height</th>\n",
       "      <th>weight</th>\n",
       "      <th>ap_hi</th>\n",
       "      <th>ap_lo</th>\n",
       "      <th>cholesterol</th>\n",
       "      <th>gluc</th>\n",
       "      <th>smoke</th>\n",
       "      <th>alco</th>\n",
       "      <th>active</th>\n",
       "      <th>cardio</th>\n",
       "      <th>age_group</th>\n",
       "      <th>bmi</th>\n",
       "    </tr>\n",
       "  </thead>\n",
       "  <tbody>\n",
       "    <tr>\n",
       "      <th>0</th>\n",
       "      <td>50</td>\n",
       "      <td>2</td>\n",
       "      <td>168</td>\n",
       "      <td>62.0</td>\n",
       "      <td>110</td>\n",
       "      <td>80</td>\n",
       "      <td>1</td>\n",
       "      <td>1</td>\n",
       "      <td>0</td>\n",
       "      <td>0</td>\n",
       "      <td>1</td>\n",
       "      <td>0</td>\n",
       "      <td>3</td>\n",
       "      <td>21.967120</td>\n",
       "    </tr>\n",
       "    <tr>\n",
       "      <th>1</th>\n",
       "      <td>55</td>\n",
       "      <td>1</td>\n",
       "      <td>156</td>\n",
       "      <td>85.0</td>\n",
       "      <td>140</td>\n",
       "      <td>90</td>\n",
       "      <td>3</td>\n",
       "      <td>1</td>\n",
       "      <td>0</td>\n",
       "      <td>0</td>\n",
       "      <td>1</td>\n",
       "      <td>1</td>\n",
       "      <td>4</td>\n",
       "      <td>34.927679</td>\n",
       "    </tr>\n",
       "    <tr>\n",
       "      <th>2</th>\n",
       "      <td>52</td>\n",
       "      <td>1</td>\n",
       "      <td>165</td>\n",
       "      <td>64.0</td>\n",
       "      <td>130</td>\n",
       "      <td>70</td>\n",
       "      <td>3</td>\n",
       "      <td>1</td>\n",
       "      <td>0</td>\n",
       "      <td>0</td>\n",
       "      <td>0</td>\n",
       "      <td>1</td>\n",
       "      <td>4</td>\n",
       "      <td>23.507805</td>\n",
       "    </tr>\n",
       "    <tr>\n",
       "      <th>3</th>\n",
       "      <td>48</td>\n",
       "      <td>2</td>\n",
       "      <td>169</td>\n",
       "      <td>82.0</td>\n",
       "      <td>150</td>\n",
       "      <td>100</td>\n",
       "      <td>1</td>\n",
       "      <td>1</td>\n",
       "      <td>0</td>\n",
       "      <td>0</td>\n",
       "      <td>1</td>\n",
       "      <td>1</td>\n",
       "      <td>3</td>\n",
       "      <td>28.710479</td>\n",
       "    </tr>\n",
       "    <tr>\n",
       "      <th>4</th>\n",
       "      <td>48</td>\n",
       "      <td>1</td>\n",
       "      <td>156</td>\n",
       "      <td>56.0</td>\n",
       "      <td>100</td>\n",
       "      <td>60</td>\n",
       "      <td>1</td>\n",
       "      <td>1</td>\n",
       "      <td>0</td>\n",
       "      <td>0</td>\n",
       "      <td>0</td>\n",
       "      <td>0</td>\n",
       "      <td>3</td>\n",
       "      <td>23.011177</td>\n",
       "    </tr>\n",
       "  </tbody>\n",
       "</table>\n",
       "</div>"
      ],
      "text/plain": [
       "   age  gender  height  weight  ap_hi  ap_lo  cholesterol  gluc  smoke  alco  \\\n",
       "0   50       2     168    62.0    110     80            1     1      0     0   \n",
       "1   55       1     156    85.0    140     90            3     1      0     0   \n",
       "2   52       1     165    64.0    130     70            3     1      0     0   \n",
       "3   48       2     169    82.0    150    100            1     1      0     0   \n",
       "4   48       1     156    56.0    100     60            1     1      0     0   \n",
       "\n",
       "   active  cardio age_group        bmi  \n",
       "0       1       0         3  21.967120  \n",
       "1       1       1         4  34.927679  \n",
       "2       0       1         4  23.507805  \n",
       "3       1       1         3  28.710479  \n",
       "4       0       0         3  23.011177  "
      ]
     },
     "execution_count": 16,
     "metadata": {},
     "output_type": "execute_result"
    }
   ],
   "source": [
    "df['bmi'] = df['weight']/((df['height']/100)**2)\n",
    "df.head()"
   ]
  },
  {
   "cell_type": "code",
   "execution_count": 17,
   "metadata": {},
   "outputs": [
    {
     "data": {
      "text/html": [
       "<div>\n",
       "<style scoped>\n",
       "    .dataframe tbody tr th:only-of-type {\n",
       "        vertical-align: middle;\n",
       "    }\n",
       "\n",
       "    .dataframe tbody tr th {\n",
       "        vertical-align: top;\n",
       "    }\n",
       "\n",
       "    .dataframe thead th {\n",
       "        text-align: right;\n",
       "    }\n",
       "</style>\n",
       "<table border=\"1\" class=\"dataframe\">\n",
       "  <thead>\n",
       "    <tr style=\"text-align: right;\">\n",
       "      <th></th>\n",
       "      <th>age</th>\n",
       "      <th>gender</th>\n",
       "      <th>height</th>\n",
       "      <th>weight</th>\n",
       "      <th>ap_hi</th>\n",
       "      <th>ap_lo</th>\n",
       "      <th>cholesterol</th>\n",
       "      <th>gluc</th>\n",
       "      <th>smoke</th>\n",
       "      <th>alco</th>\n",
       "      <th>active</th>\n",
       "      <th>cardio</th>\n",
       "      <th>age_group</th>\n",
       "      <th>bmi</th>\n",
       "    </tr>\n",
       "  </thead>\n",
       "  <tbody>\n",
       "    <tr>\n",
       "      <th>0</th>\n",
       "      <td>50</td>\n",
       "      <td>2</td>\n",
       "      <td>168</td>\n",
       "      <td>62.0</td>\n",
       "      <td>110</td>\n",
       "      <td>80</td>\n",
       "      <td>1</td>\n",
       "      <td>1</td>\n",
       "      <td>0</td>\n",
       "      <td>0</td>\n",
       "      <td>1</td>\n",
       "      <td>0</td>\n",
       "      <td>3</td>\n",
       "      <td>1</td>\n",
       "    </tr>\n",
       "    <tr>\n",
       "      <th>1</th>\n",
       "      <td>55</td>\n",
       "      <td>1</td>\n",
       "      <td>156</td>\n",
       "      <td>85.0</td>\n",
       "      <td>140</td>\n",
       "      <td>90</td>\n",
       "      <td>3</td>\n",
       "      <td>1</td>\n",
       "      <td>0</td>\n",
       "      <td>0</td>\n",
       "      <td>1</td>\n",
       "      <td>1</td>\n",
       "      <td>4</td>\n",
       "      <td>3</td>\n",
       "    </tr>\n",
       "    <tr>\n",
       "      <th>2</th>\n",
       "      <td>52</td>\n",
       "      <td>1</td>\n",
       "      <td>165</td>\n",
       "      <td>64.0</td>\n",
       "      <td>130</td>\n",
       "      <td>70</td>\n",
       "      <td>3</td>\n",
       "      <td>1</td>\n",
       "      <td>0</td>\n",
       "      <td>0</td>\n",
       "      <td>0</td>\n",
       "      <td>1</td>\n",
       "      <td>4</td>\n",
       "      <td>1</td>\n",
       "    </tr>\n",
       "    <tr>\n",
       "      <th>3</th>\n",
       "      <td>48</td>\n",
       "      <td>2</td>\n",
       "      <td>169</td>\n",
       "      <td>82.0</td>\n",
       "      <td>150</td>\n",
       "      <td>100</td>\n",
       "      <td>1</td>\n",
       "      <td>1</td>\n",
       "      <td>0</td>\n",
       "      <td>0</td>\n",
       "      <td>1</td>\n",
       "      <td>1</td>\n",
       "      <td>3</td>\n",
       "      <td>2</td>\n",
       "    </tr>\n",
       "    <tr>\n",
       "      <th>4</th>\n",
       "      <td>48</td>\n",
       "      <td>1</td>\n",
       "      <td>156</td>\n",
       "      <td>56.0</td>\n",
       "      <td>100</td>\n",
       "      <td>60</td>\n",
       "      <td>1</td>\n",
       "      <td>1</td>\n",
       "      <td>0</td>\n",
       "      <td>0</td>\n",
       "      <td>0</td>\n",
       "      <td>0</td>\n",
       "      <td>3</td>\n",
       "      <td>1</td>\n",
       "    </tr>\n",
       "  </tbody>\n",
       "</table>\n",
       "</div>"
      ],
      "text/plain": [
       "   age  gender  height  weight  ap_hi  ap_lo  cholesterol  gluc  smoke  alco  \\\n",
       "0   50       2     168    62.0    110     80            1     1      0     0   \n",
       "1   55       1     156    85.0    140     90            3     1      0     0   \n",
       "2   52       1     165    64.0    130     70            3     1      0     0   \n",
       "3   48       2     169    82.0    150    100            1     1      0     0   \n",
       "4   48       1     156    56.0    100     60            1     1      0     0   \n",
       "\n",
       "   active  cardio age_group bmi  \n",
       "0       1       0         3   1  \n",
       "1       1       1         4   3  \n",
       "2       0       1         4   1  \n",
       "3       1       1         3   2  \n",
       "4       0       0         3   1  "
      ]
     },
     "execution_count": 17,
     "metadata": {},
     "output_type": "execute_result"
    }
   ],
   "source": [
    "\n",
    "df['bmi'] = pd.cut(df['bmi'], bins=6, labels=range(6))\n",
    "df[\"bmi\"].value_counts(normalize=True)\n",
    "df.head()"
   ]
  },
  {
   "cell_type": "code",
   "execution_count": 18,
   "metadata": {},
   "outputs": [
    {
     "name": "stdout",
     "output_type": "stream",
     "text": [
      "73 121\n"
     ]
    },
    {
     "data": {
      "text/html": [
       "<div>\n",
       "<style scoped>\n",
       "    .dataframe tbody tr th:only-of-type {\n",
       "        vertical-align: middle;\n",
       "    }\n",
       "\n",
       "    .dataframe tbody tr th {\n",
       "        vertical-align: top;\n",
       "    }\n",
       "\n",
       "    .dataframe thead th {\n",
       "        text-align: right;\n",
       "    }\n",
       "</style>\n",
       "<table border=\"1\" class=\"dataframe\">\n",
       "  <thead>\n",
       "    <tr style=\"text-align: right;\">\n",
       "      <th></th>\n",
       "      <th>age</th>\n",
       "      <th>gender</th>\n",
       "      <th>height</th>\n",
       "      <th>weight</th>\n",
       "      <th>ap_hi</th>\n",
       "      <th>ap_lo</th>\n",
       "      <th>cholesterol</th>\n",
       "      <th>gluc</th>\n",
       "      <th>smoke</th>\n",
       "      <th>alco</th>\n",
       "      <th>active</th>\n",
       "      <th>cardio</th>\n",
       "      <th>age_group</th>\n",
       "      <th>bmi</th>\n",
       "      <th>map</th>\n",
       "    </tr>\n",
       "  </thead>\n",
       "  <tbody>\n",
       "    <tr>\n",
       "      <th>0</th>\n",
       "      <td>50</td>\n",
       "      <td>2</td>\n",
       "      <td>168</td>\n",
       "      <td>62.0</td>\n",
       "      <td>110</td>\n",
       "      <td>80</td>\n",
       "      <td>1</td>\n",
       "      <td>1</td>\n",
       "      <td>0</td>\n",
       "      <td>0</td>\n",
       "      <td>1</td>\n",
       "      <td>0</td>\n",
       "      <td>3</td>\n",
       "      <td>1</td>\n",
       "      <td>2</td>\n",
       "    </tr>\n",
       "    <tr>\n",
       "      <th>1</th>\n",
       "      <td>55</td>\n",
       "      <td>1</td>\n",
       "      <td>156</td>\n",
       "      <td>85.0</td>\n",
       "      <td>140</td>\n",
       "      <td>90</td>\n",
       "      <td>3</td>\n",
       "      <td>1</td>\n",
       "      <td>0</td>\n",
       "      <td>0</td>\n",
       "      <td>1</td>\n",
       "      <td>1</td>\n",
       "      <td>4</td>\n",
       "      <td>3</td>\n",
       "      <td>4</td>\n",
       "    </tr>\n",
       "    <tr>\n",
       "      <th>2</th>\n",
       "      <td>52</td>\n",
       "      <td>1</td>\n",
       "      <td>165</td>\n",
       "      <td>64.0</td>\n",
       "      <td>130</td>\n",
       "      <td>70</td>\n",
       "      <td>3</td>\n",
       "      <td>1</td>\n",
       "      <td>0</td>\n",
       "      <td>0</td>\n",
       "      <td>0</td>\n",
       "      <td>1</td>\n",
       "      <td>4</td>\n",
       "      <td>1</td>\n",
       "      <td>2</td>\n",
       "    </tr>\n",
       "    <tr>\n",
       "      <th>3</th>\n",
       "      <td>48</td>\n",
       "      <td>2</td>\n",
       "      <td>169</td>\n",
       "      <td>82.0</td>\n",
       "      <td>150</td>\n",
       "      <td>100</td>\n",
       "      <td>1</td>\n",
       "      <td>1</td>\n",
       "      <td>0</td>\n",
       "      <td>0</td>\n",
       "      <td>1</td>\n",
       "      <td>1</td>\n",
       "      <td>3</td>\n",
       "      <td>2</td>\n",
       "      <td>5</td>\n",
       "    </tr>\n",
       "    <tr>\n",
       "      <th>4</th>\n",
       "      <td>48</td>\n",
       "      <td>1</td>\n",
       "      <td>156</td>\n",
       "      <td>56.0</td>\n",
       "      <td>100</td>\n",
       "      <td>60</td>\n",
       "      <td>1</td>\n",
       "      <td>1</td>\n",
       "      <td>0</td>\n",
       "      <td>0</td>\n",
       "      <td>0</td>\n",
       "      <td>0</td>\n",
       "      <td>3</td>\n",
       "      <td>1</td>\n",
       "      <td>0</td>\n",
       "    </tr>\n",
       "  </tbody>\n",
       "</table>\n",
       "</div>"
      ],
      "text/plain": [
       "   age  gender  height  weight  ap_hi  ap_lo  cholesterol  gluc  smoke  alco  \\\n",
       "0   50       2     168    62.0    110     80            1     1      0     0   \n",
       "1   55       1     156    85.0    140     90            3     1      0     0   \n",
       "2   52       1     165    64.0    130     70            3     1      0     0   \n",
       "3   48       2     169    82.0    150    100            1     1      0     0   \n",
       "4   48       1     156    56.0    100     60            1     1      0     0   \n",
       "\n",
       "   active  cardio age_group bmi map  \n",
       "0       1       0         3   1   2  \n",
       "1       1       1         4   3   4  \n",
       "2       0       1         4   1   2  \n",
       "3       1       1         3   2   5  \n",
       "4       0       0         3   1   0  "
      ]
     },
     "execution_count": 18,
     "metadata": {},
     "output_type": "execute_result"
    }
   ],
   "source": [
    "df['map'] = ((2* df['ap_lo']) + df['ap_hi']) / 3\n",
    "mapMin = int(df['map'].min())\n",
    "mapMax = int(df['map'].max())\n",
    "print(mapMin, mapMax)\n",
    "df['map'] = pd.cut(df['map'], bins=6, labels=range(6))\n",
    "df.head()"
   ]
  },
  {
   "cell_type": "markdown",
   "metadata": {},
   "source": [
    "Dropping features We only need categorical data"
   ]
  },
  {
   "cell_type": "code",
   "execution_count": 19,
   "metadata": {},
   "outputs": [
    {
     "data": {
      "text/html": [
       "<div>\n",
       "<style scoped>\n",
       "    .dataframe tbody tr th:only-of-type {\n",
       "        vertical-align: middle;\n",
       "    }\n",
       "\n",
       "    .dataframe tbody tr th {\n",
       "        vertical-align: top;\n",
       "    }\n",
       "\n",
       "    .dataframe thead th {\n",
       "        text-align: right;\n",
       "    }\n",
       "</style>\n",
       "<table border=\"1\" class=\"dataframe\">\n",
       "  <thead>\n",
       "    <tr style=\"text-align: right;\">\n",
       "      <th></th>\n",
       "      <th>gender</th>\n",
       "      <th>cholesterol</th>\n",
       "      <th>gluc</th>\n",
       "      <th>smoke</th>\n",
       "      <th>alco</th>\n",
       "      <th>active</th>\n",
       "      <th>cardio</th>\n",
       "      <th>age_group</th>\n",
       "      <th>bmi</th>\n",
       "      <th>map</th>\n",
       "    </tr>\n",
       "  </thead>\n",
       "  <tbody>\n",
       "    <tr>\n",
       "      <th>0</th>\n",
       "      <td>2</td>\n",
       "      <td>1</td>\n",
       "      <td>1</td>\n",
       "      <td>0</td>\n",
       "      <td>0</td>\n",
       "      <td>1</td>\n",
       "      <td>0</td>\n",
       "      <td>3</td>\n",
       "      <td>1</td>\n",
       "      <td>2</td>\n",
       "    </tr>\n",
       "    <tr>\n",
       "      <th>1</th>\n",
       "      <td>1</td>\n",
       "      <td>3</td>\n",
       "      <td>1</td>\n",
       "      <td>0</td>\n",
       "      <td>0</td>\n",
       "      <td>1</td>\n",
       "      <td>1</td>\n",
       "      <td>4</td>\n",
       "      <td>3</td>\n",
       "      <td>4</td>\n",
       "    </tr>\n",
       "    <tr>\n",
       "      <th>2</th>\n",
       "      <td>1</td>\n",
       "      <td>3</td>\n",
       "      <td>1</td>\n",
       "      <td>0</td>\n",
       "      <td>0</td>\n",
       "      <td>0</td>\n",
       "      <td>1</td>\n",
       "      <td>4</td>\n",
       "      <td>1</td>\n",
       "      <td>2</td>\n",
       "    </tr>\n",
       "    <tr>\n",
       "      <th>3</th>\n",
       "      <td>2</td>\n",
       "      <td>1</td>\n",
       "      <td>1</td>\n",
       "      <td>0</td>\n",
       "      <td>0</td>\n",
       "      <td>1</td>\n",
       "      <td>1</td>\n",
       "      <td>3</td>\n",
       "      <td>2</td>\n",
       "      <td>5</td>\n",
       "    </tr>\n",
       "    <tr>\n",
       "      <th>4</th>\n",
       "      <td>1</td>\n",
       "      <td>1</td>\n",
       "      <td>1</td>\n",
       "      <td>0</td>\n",
       "      <td>0</td>\n",
       "      <td>0</td>\n",
       "      <td>0</td>\n",
       "      <td>3</td>\n",
       "      <td>1</td>\n",
       "      <td>0</td>\n",
       "    </tr>\n",
       "  </tbody>\n",
       "</table>\n",
       "</div>"
      ],
      "text/plain": [
       "   gender  cholesterol  gluc  smoke  alco  active  cardio age_group bmi map\n",
       "0       2            1     1      0     0       1       0         3   1   2\n",
       "1       1            3     1      0     0       1       1         4   3   4\n",
       "2       1            3     1      0     0       0       1         4   1   2\n",
       "3       2            1     1      0     0       1       1         3   2   5\n",
       "4       1            1     1      0     0       0       0         3   1   0"
      ]
     },
     "execution_count": 19,
     "metadata": {},
     "output_type": "execute_result"
    }
   ],
   "source": [
    "df=df.drop(['height','weight','ap_hi','ap_lo','age'],axis=1)\n",
    "df.head()"
   ]
  },
  {
   "cell_type": "markdown",
   "metadata": {},
   "source": [
    "Label Encoding"
   ]
  },
  {
   "cell_type": "code",
   "execution_count": 20,
   "metadata": {},
   "outputs": [
    {
     "data": {
      "text/html": [
       "<div>\n",
       "<style scoped>\n",
       "    .dataframe tbody tr th:only-of-type {\n",
       "        vertical-align: middle;\n",
       "    }\n",
       "\n",
       "    .dataframe tbody tr th {\n",
       "        vertical-align: top;\n",
       "    }\n",
       "\n",
       "    .dataframe thead th {\n",
       "        text-align: right;\n",
       "    }\n",
       "</style>\n",
       "<table border=\"1\" class=\"dataframe\">\n",
       "  <thead>\n",
       "    <tr style=\"text-align: right;\">\n",
       "      <th></th>\n",
       "      <th>gender</th>\n",
       "      <th>cholesterol</th>\n",
       "      <th>gluc</th>\n",
       "      <th>smoke</th>\n",
       "      <th>alco</th>\n",
       "      <th>active</th>\n",
       "      <th>cardio</th>\n",
       "      <th>age_group</th>\n",
       "      <th>bmi</th>\n",
       "      <th>map</th>\n",
       "    </tr>\n",
       "  </thead>\n",
       "  <tbody>\n",
       "    <tr>\n",
       "      <th>0</th>\n",
       "      <td>1</td>\n",
       "      <td>0</td>\n",
       "      <td>0</td>\n",
       "      <td>0</td>\n",
       "      <td>0</td>\n",
       "      <td>1</td>\n",
       "      <td>0</td>\n",
       "      <td>3</td>\n",
       "      <td>1</td>\n",
       "      <td>2</td>\n",
       "    </tr>\n",
       "    <tr>\n",
       "      <th>1</th>\n",
       "      <td>0</td>\n",
       "      <td>2</td>\n",
       "      <td>0</td>\n",
       "      <td>0</td>\n",
       "      <td>0</td>\n",
       "      <td>1</td>\n",
       "      <td>1</td>\n",
       "      <td>4</td>\n",
       "      <td>3</td>\n",
       "      <td>4</td>\n",
       "    </tr>\n",
       "    <tr>\n",
       "      <th>2</th>\n",
       "      <td>0</td>\n",
       "      <td>2</td>\n",
       "      <td>0</td>\n",
       "      <td>0</td>\n",
       "      <td>0</td>\n",
       "      <td>0</td>\n",
       "      <td>1</td>\n",
       "      <td>4</td>\n",
       "      <td>1</td>\n",
       "      <td>2</td>\n",
       "    </tr>\n",
       "    <tr>\n",
       "      <th>3</th>\n",
       "      <td>1</td>\n",
       "      <td>0</td>\n",
       "      <td>0</td>\n",
       "      <td>0</td>\n",
       "      <td>0</td>\n",
       "      <td>1</td>\n",
       "      <td>1</td>\n",
       "      <td>3</td>\n",
       "      <td>2</td>\n",
       "      <td>5</td>\n",
       "    </tr>\n",
       "    <tr>\n",
       "      <th>4</th>\n",
       "      <td>0</td>\n",
       "      <td>0</td>\n",
       "      <td>0</td>\n",
       "      <td>0</td>\n",
       "      <td>0</td>\n",
       "      <td>0</td>\n",
       "      <td>0</td>\n",
       "      <td>3</td>\n",
       "      <td>1</td>\n",
       "      <td>0</td>\n",
       "    </tr>\n",
       "    <tr>\n",
       "      <th>5</th>\n",
       "      <td>0</td>\n",
       "      <td>1</td>\n",
       "      <td>1</td>\n",
       "      <td>0</td>\n",
       "      <td>0</td>\n",
       "      <td>0</td>\n",
       "      <td>0</td>\n",
       "      <td>5</td>\n",
       "      <td>2</td>\n",
       "      <td>2</td>\n",
       "    </tr>\n",
       "    <tr>\n",
       "      <th>6</th>\n",
       "      <td>0</td>\n",
       "      <td>2</td>\n",
       "      <td>0</td>\n",
       "      <td>0</td>\n",
       "      <td>0</td>\n",
       "      <td>1</td>\n",
       "      <td>0</td>\n",
       "      <td>6</td>\n",
       "      <td>4</td>\n",
       "      <td>2</td>\n",
       "    </tr>\n",
       "    <tr>\n",
       "      <th>7</th>\n",
       "      <td>1</td>\n",
       "      <td>2</td>\n",
       "      <td>2</td>\n",
       "      <td>0</td>\n",
       "      <td>0</td>\n",
       "      <td>1</td>\n",
       "      <td>1</td>\n",
       "      <td>6</td>\n",
       "      <td>2</td>\n",
       "      <td>3</td>\n",
       "    </tr>\n",
       "    <tr>\n",
       "      <th>8</th>\n",
       "      <td>0</td>\n",
       "      <td>0</td>\n",
       "      <td>0</td>\n",
       "      <td>0</td>\n",
       "      <td>0</td>\n",
       "      <td>1</td>\n",
       "      <td>0</td>\n",
       "      <td>3</td>\n",
       "      <td>2</td>\n",
       "      <td>1</td>\n",
       "    </tr>\n",
       "    <tr>\n",
       "      <th>9</th>\n",
       "      <td>0</td>\n",
       "      <td>0</td>\n",
       "      <td>0</td>\n",
       "      <td>0</td>\n",
       "      <td>0</td>\n",
       "      <td>0</td>\n",
       "      <td>0</td>\n",
       "      <td>4</td>\n",
       "      <td>1</td>\n",
       "      <td>0</td>\n",
       "    </tr>\n",
       "  </tbody>\n",
       "</table>\n",
       "</div>"
      ],
      "text/plain": [
       "   gender  cholesterol  gluc  smoke  alco  active  cardio  age_group  bmi  map\n",
       "0       1            0     0      0     0       1       0          3    1    2\n",
       "1       0            2     0      0     0       1       1          4    3    4\n",
       "2       0            2     0      0     0       0       1          4    1    2\n",
       "3       1            0     0      0     0       1       1          3    2    5\n",
       "4       0            0     0      0     0       0       0          3    1    0\n",
       "5       0            1     1      0     0       0       0          5    2    2\n",
       "6       0            2     0      0     0       1       0          6    4    2\n",
       "7       1            2     2      0     0       1       1          6    2    3\n",
       "8       0            0     0      0     0       1       0          3    2    1\n",
       "9       0            0     0      0     0       0       0          4    1    0"
      ]
     },
     "execution_count": 20,
     "metadata": {},
     "output_type": "execute_result"
    }
   ],
   "source": [
    "from sklearn import metrics, preprocessing\n",
    "le = preprocessing.LabelEncoder()\n",
    "df = df.apply(le.fit_transform)\n",
    "df.head(10)"
   ]
  },
  {
   "cell_type": "code",
   "execution_count": 22,
   "metadata": {},
   "outputs": [
    {
     "name": "stdout",
     "output_type": "stream",
     "text": [
      "Index(['gender', 'cholesterol', 'gluc', 'smoke', 'alco', 'active', 'cardio',\n",
      "       'age_group', 'bmi', 'map'],\n",
      "      dtype='object')\n"
     ]
    }
   ],
   "source": [
    "print(df.columns)\n"
   ]
  },
  {
   "cell_type": "code",
   "execution_count": 23,
   "metadata": {},
   "outputs": [
    {
     "name": "stdout",
     "output_type": "stream",
     "text": [
      "Collecting kmodes\n",
      "  Using cached kmodes-0.12.2-py2.py3-none-any.whl (20 kB)\n",
      "Requirement already satisfied: numpy>=1.10.4 in c:\\users\\meesala ramya\\anaconda3\\lib\\site-packages (from kmodes) (1.26.4)\n",
      "Requirement already satisfied: scipy>=0.13.3 in c:\\users\\meesala ramya\\anaconda3\\lib\\site-packages (from kmodes) (1.7.1)\n",
      "Requirement already satisfied: joblib>=0.11 in c:\\users\\meesala ramya\\anaconda3\\lib\\site-packages (from kmodes) (1.2.0)\n",
      "Requirement already satisfied: scikit-learn>=0.22.0 in c:\\users\\meesala ramya\\anaconda3\\lib\\site-packages (from kmodes) (1.2.0)\n",
      "Requirement already satisfied: threadpoolctl>=2.0.0 in c:\\users\\meesala ramya\\anaconda3\\lib\\site-packages (from scikit-learn>=0.22.0->kmodes) (2.2.0)\n",
      "Collecting numpy>=1.10.4\n",
      "  Downloading numpy-1.22.4-cp39-cp39-win_amd64.whl (14.7 MB)\n",
      "Installing collected packages: numpy, kmodes\n",
      "  Attempting uninstall: numpy\n",
      "    Found existing installation: numpy 1.26.4\n",
      "    Uninstalling numpy-1.26.4:\n",
      "      Successfully uninstalled numpy-1.26.4\n",
      "Note: you may need to restart the kernel to use updated packages.\n"
     ]
    },
    {
     "name": "stderr",
     "output_type": "stream",
     "text": [
      "WARNING: Ignoring invalid distribution -cikit-learn (c:\\users\\meesala ramya\\anaconda3\\lib\\site-packages)\n",
      "WARNING: Ignoring invalid distribution -atplotlib (c:\\users\\meesala ramya\\anaconda3\\lib\\site-packages)\n",
      "WARNING: Ignoring invalid distribution -cikit-learn (c:\\users\\meesala ramya\\anaconda3\\lib\\site-packages)\n",
      "WARNING: Ignoring invalid distribution -atplotlib (c:\\users\\meesala ramya\\anaconda3\\lib\\site-packages)\n",
      "WARNING: Ignoring invalid distribution -cikit-learn (c:\\users\\meesala ramya\\anaconda3\\lib\\site-packages)\n",
      "WARNING: Ignoring invalid distribution -atplotlib (c:\\users\\meesala ramya\\anaconda3\\lib\\site-packages)\n",
      "    WARNING: Ignoring invalid distribution -cikit-learn (c:\\users\\meesala ramya\\anaconda3\\lib\\site-packages)\n",
      "    WARNING: Ignoring invalid distribution -atplotlib (c:\\users\\meesala ramya\\anaconda3\\lib\\site-packages)\n",
      "ERROR: Could not install packages due to an OSError: [WinError 5] Access is denied: 'C:\\\\Users\\\\MEESALA RAMYA\\\\anaconda3\\\\Lib\\\\site-packages\\\\~-mpy.libs\\\\libopenblas64__v0.3.23-293-gc2f4bdbb-gcc_10_3_0-2bde3a66a51006b2b53eb373ff767a3f.dll'\n",
      "Consider using the `--user` option or check the permissions.\n",
      "\n",
      "WARNING: Ignoring invalid distribution -cikit-learn (c:\\users\\meesala ramya\\anaconda3\\lib\\site-packages)\n",
      "WARNING: Ignoring invalid distribution -atplotlib (c:\\users\\meesala ramya\\anaconda3\\lib\\site-packages)\n",
      "WARNING: Ignoring invalid distribution -cikit-learn (c:\\users\\meesala ramya\\anaconda3\\lib\\site-packages)\n",
      "WARNING: Ignoring invalid distribution -atplotlib (c:\\users\\meesala ramya\\anaconda3\\lib\\site-packages)\n",
      "WARNING: Ignoring invalid distribution -cikit-learn (c:\\users\\meesala ramya\\anaconda3\\lib\\site-packages)\n",
      "WARNING: Ignoring invalid distribution -atplotlib (c:\\users\\meesala ramya\\anaconda3\\lib\\site-packages)\n"
     ]
    }
   ],
   "source": [
    "pip install kmodes\n"
   ]
  },
  {
   "cell_type": "code",
   "execution_count": 24,
   "metadata": {},
   "outputs": [
    {
     "name": "stdout",
     "output_type": "stream",
     "text": [
      "Collecting kmodes\n",
      "  Using cached kmodes-0.12.2-py2.py3-none-any.whl (20 kB)\n",
      "Requirement already satisfied: numpy>=1.10.4 in c:\\users\\meesala ramya\\anaconda3\\lib\\site-packages (from kmodes) (1.22.4)\n",
      "Requirement already satisfied: scikit-learn>=0.22.0 in c:\\users\\meesala ramya\\anaconda3\\lib\\site-packages (from kmodes) (1.2.0)\n",
      "Requirement already satisfied: joblib>=0.11 in c:\\users\\meesala ramya\\anaconda3\\lib\\site-packages (from kmodes) (1.2.0)\n",
      "Requirement already satisfied: scipy>=0.13.3 in c:\\users\\meesala ramya\\anaconda3\\lib\\site-packages (from kmodes) (1.7.1)\n",
      "Requirement already satisfied: threadpoolctl>=2.0.0 in c:\\users\\meesala ramya\\anaconda3\\lib\\site-packages (from scikit-learn>=0.22.0->kmodes) (2.2.0)\n",
      "Installing collected packages: kmodes\n",
      "Successfully installed kmodes-0.12.2\n",
      "Note: you may need to restart the kernel to use updated packages.\n"
     ]
    },
    {
     "name": "stderr",
     "output_type": "stream",
     "text": [
      "WARNING: Ignoring invalid distribution -cikit-learn (c:\\users\\meesala ramya\\anaconda3\\lib\\site-packages)\n",
      "WARNING: Ignoring invalid distribution -atplotlib (c:\\users\\meesala ramya\\anaconda3\\lib\\site-packages)\n",
      "WARNING: Ignoring invalid distribution -cikit-learn (c:\\users\\meesala ramya\\anaconda3\\lib\\site-packages)\n",
      "WARNING: Ignoring invalid distribution -atplotlib (c:\\users\\meesala ramya\\anaconda3\\lib\\site-packages)\n",
      "WARNING: Ignoring invalid distribution -cikit-learn (c:\\users\\meesala ramya\\anaconda3\\lib\\site-packages)\n",
      "WARNING: Ignoring invalid distribution -atplotlib (c:\\users\\meesala ramya\\anaconda3\\lib\\site-packages)\n",
      "WARNING: Ignoring invalid distribution -cikit-learn (c:\\users\\meesala ramya\\anaconda3\\lib\\site-packages)\n",
      "WARNING: Ignoring invalid distribution -atplotlib (c:\\users\\meesala ramya\\anaconda3\\lib\\site-packages)\n",
      "WARNING: Ignoring invalid distribution -cikit-learn (c:\\users\\meesala ramya\\anaconda3\\lib\\site-packages)\n",
      "WARNING: Ignoring invalid distribution -atplotlib (c:\\users\\meesala ramya\\anaconda3\\lib\\site-packages)\n",
      "WARNING: Ignoring invalid distribution -cikit-learn (c:\\users\\meesala ramya\\anaconda3\\lib\\site-packages)\n",
      "WARNING: Ignoring invalid distribution -atplotlib (c:\\users\\meesala ramya\\anaconda3\\lib\\site-packages)\n"
     ]
    }
   ],
   "source": [
    "pip install --user kmodes\n"
   ]
  },
  {
   "cell_type": "code",
   "execution_count": 23,
   "metadata": {},
   "outputs": [],
   "source": [
    "import numpy as np\n",
    "import pandas as pd\n",
    "from sklearn import metrics, preprocessing\n",
    "from sklearn.model_selection import train_test_split, cross_val_score, GridSearchCV\n",
    "from sklearn.linear_model import LogisticRegression\n",
    "from sklearn.ensemble import RandomForestClassifier\n",
    "from sklearn.svm import SVC\n",
    "from kmodes.kmodes import KModes\n",
    "from sklearn.metrics import classification_report\n",
    "from sklearn.preprocessing import LabelEncoder\n",
    "import matplotlib.pyplot as plt\n",
    "import seaborn as sns"
   ]
  },
  {
   "cell_type": "markdown",
   "metadata": {},
   "source": [
    "# clustering"
   ]
  },
  {
   "cell_type": "markdown",
   "metadata": {},
   "source": [
    "Clustering is used in machine learning to find similarities between data by grouping. The most common technique for clustering is K-means. However, it is not effective for categorical data. K-means uses a Euclidean distance measure differences between data points. For our data, we have used K-modes which is the appropriate clustering algorithm for categorical data because it uses mode-based distance between the categories, so it is more suitable for categorical data. To find the optimal number of clusters, we have utilized the elbow curve method."
   ]
  },
  {
   "cell_type": "code",
   "execution_count": 24,
   "metadata": {},
   "outputs": [],
   "source": [
    "cost = []\n",
    "num_clusters = range(1,6) # 1 to 5\n",
    "for i in list(num_clusters):\n",
    "    kmode = KModes(n_clusters=i, init = \"Huang\", n_init = 5, verbose=0,random_state=1)\n",
    "    kmode.fit_predict(df)\n",
    "    cost.append(kmode.cost_)"
   ]
  },
  {
   "cell_type": "code",
   "execution_count": 25,
   "metadata": {},
   "outputs": [
    {
     "data": {
      "image/png": "[encoded data removed]",
      "text/plain": [
       "<Figure size 432x288 with 1 Axes>"
      ]
     },
     "metadata": {
      "needs_background": "light"
     },
     "output_type": "display_data"
    }
   ],
   "source": [
    "plt.plot(num_clusters, cost, 'bo-')\n",
    "plt.xlabel('num_clusters')\n",
    "plt.ylabel('Cost')\n",
    "plt.title('Elbow Method For Optimal Number of Clusters')\n",
    "plt.show()"
   ]
  },
  {
   "cell_type": "markdown",
   "metadata": {},
   "source": [
    "# Building KModes model"
   ]
  },
  {
   "cell_type": "code",
   "execution_count": 26,
   "metadata": {},
   "outputs": [
    {
     "name": "stdout",
     "output_type": "stream",
     "text": [
      "[1 0 0 ... 0 0 1]\n"
     ]
    }
   ],
   "source": [
    "km = KModes(n_clusters=2, init = \"Huang\", n_init = 5,random_state=1)\n",
    "clusters = km.fit_predict(df)\n",
    "print(clusters)"
   ]
  },
  {
   "cell_type": "code",
   "execution_count": 27,
   "metadata": {},
   "outputs": [],
   "source": [
    "df.insert(0,\"clusters\",clusters,True)"
   ]
  },
  {
   "cell_type": "markdown",
   "metadata": {},
   "source": [
    "# Correlation Matrix¶"
   ]
  },
  {
   "cell_type": "code",
   "execution_count": 91,
   "metadata": {},
   "outputs": [
    {
     "name": "stdout",
     "output_type": "stream",
     "text": [
      "Requirement already satisfied: seaborn in c:\\users\\nitya\\anaconda3\\lib\\site-packages (0.12.2)\n",
      "Collecting seaborn\n",
      "  Downloading seaborn-0.13.2-py3-none-any.whl.metadata (5.4 kB)\n",
      "Requirement already satisfied: matplotlib in c:\\users\\nitya\\anaconda3\\lib\\site-packages (3.8.0)\n",
      "Collecting matplotlib\n",
      "  Downloading matplotlib-3.8.3-cp311-cp311-win_amd64.whl.metadata (5.9 kB)\n",
      "Requirement already satisfied: numpy!=1.24.0,>=1.20 in c:\\users\\nitya\\anaconda3\\lib\\site-packages (from seaborn) (1.26.4)\n",
      "Requirement already satisfied: pandas>=1.2 in c:\\users\\nitya\\anaconda3\\lib\\site-packages (from seaborn) (2.1.4)\n",
      "Requirement already satisfied: contourpy>=1.0.1 in c:\\users\\nitya\\anaconda3\\lib\\site-packages (from matplotlib) (1.2.0)\n",
      "Requirement already satisfied: cycler>=0.10 in c:\\users\\nitya\\anaconda3\\lib\\site-packages (from matplotlib) (0.11.0)\n",
      "Requirement already satisfied: fonttools>=4.22.0 in c:\\users\\nitya\\anaconda3\\lib\\site-packages (from matplotlib) (4.25.0)\n",
      "Requirement already satisfied: kiwisolver>=1.3.1 in c:\\users\\nitya\\anaconda3\\lib\\site-packages (from matplotlib) (1.4.4)\n",
      "Requirement already satisfied: packaging>=20.0 in c:\\users\\nitya\\anaconda3\\lib\\site-packages (from matplotlib) (23.1)\n",
      "Requirement already satisfied: pillow>=8 in c:\\users\\nitya\\anaconda3\\lib\\site-packages (from matplotlib) (10.2.0)\n",
      "Requirement already satisfied: pyparsing>=2.3.1 in c:\\users\\nitya\\anaconda3\\lib\\site-packages (from matplotlib) (3.0.9)\n",
      "Requirement already satisfied: python-dateutil>=2.7 in c:\\users\\nitya\\anaconda3\\lib\\site-packages (from matplotlib) (2.8.2)\n",
      "Requirement already satisfied: pytz>=2020.1 in c:\\users\\nitya\\anaconda3\\lib\\site-packages (from pandas>=1.2->seaborn) (2023.3.post1)\n",
      "Requirement already satisfied: tzdata>=2022.1 in c:\\users\\nitya\\anaconda3\\lib\\site-packages (from pandas>=1.2->seaborn) (2023.3)\n",
      "Requirement already satisfied: six>=1.5 in c:\\users\\nitya\\anaconda3\\lib\\site-packages (from python-dateutil>=2.7->matplotlib) (1.16.0)\n",
      "Downloading seaborn-0.13.2-py3-none-any.whl (294 kB)\n",
      "   ---------------------------------------- 0.0/294.9 kB ? eta -:--:--\n",
      "   - -------------------------------------- 10.2/294.9 kB ? eta -:--:--\n",
      "   ---- ---------------------------------- 30.7/294.9 kB 330.3 kB/s eta 0:00:01\n",
      "   ------------ -------------------------- 92.2/294.9 kB 655.4 kB/s eta 0:00:01\n",
      "   --------------- ---------------------- 122.9/294.9 kB 722.1 kB/s eta 0:00:01\n",
      "   ---------------------- --------------- 174.1/294.9 kB 807.1 kB/s eta 0:00:01\n",
      "   ---------------------- --------------- 174.1/294.9 kB 807.1 kB/s eta 0:00:01\n",
      "   ----------------------------- -------- 225.3/294.9 kB 655.6 kB/s eta 0:00:01\n",
      "   ----------------------------------- -- 276.5/294.9 kB 710.0 kB/s eta 0:00:01\n",
      "   -------------------------------------- 294.9/294.9 kB 701.2 kB/s eta 0:00:00\n",
      "Downloading matplotlib-3.8.3-cp311-cp311-win_amd64.whl (7.6 MB)\n",
      "   ---------------------------------------- 0.0/7.6 MB ? eta -:--:--\n",
      "   ---------------------------------------- 0.1/7.6 MB 2.6 MB/s eta 0:00:03\n",
      "    --------------------------------------- 0.1/7.6 MB 1.2 MB/s eta 0:00:07\n",
      "    --------------------------------------- 0.1/7.6 MB 1.2 MB/s eta 0:00:07\n",
      "    --------------------------------------- 0.2/7.6 MB 762.6 kB/s eta 0:00:10\n",
      "   - -------------------------------------- 0.2/7.6 MB 827.9 kB/s eta 0:00:09\n",
      "   - -------------------------------------- 0.2/7.6 MB 801.7 kB/s eta 0:00:10\n",
      "   - -------------------------------------- 0.2/7.6 MB 801.7 kB/s eta 0:00:10\n",
      "   - -------------------------------------- 0.3/7.6 MB 707.1 kB/s eta 0:00:11\n",
      "   - -------------------------------------- 0.3/7.6 MB 701.4 kB/s eta 0:00:11\n",
      "   - -------------------------------------- 0.4/7.6 MB 696.3 kB/s eta 0:00:11\n",
      "   -- ------------------------------------- 0.5/7.6 MB 829.2 kB/s eta 0:00:09\n",
      "   -- ------------------------------------- 0.5/7.6 MB 800.3 kB/s eta 0:00:09\n",
      "   -- ------------------------------------- 0.5/7.6 MB 814.7 kB/s eta 0:00:09\n",
      "   --- ------------------------------------ 0.6/7.6 MB 859.4 kB/s eta 0:00:09\n",
      "   --- ------------------------------------ 0.6/7.6 MB 874.0 kB/s eta 0:00:09\n",
      "   --- ------------------------------------ 0.7/7.6 MB 873.7 kB/s eta 0:00:08\n",
      "   ---- ----------------------------------- 0.8/7.6 MB 910.0 kB/s eta 0:00:08\n",
      "   ---- ----------------------------------- 0.8/7.6 MB 910.0 kB/s eta 0:00:08\n",
      "   ---- ----------------------------------- 0.8/7.6 MB 910.0 kB/s eta 0:00:08\n",
      "   ---- ----------------------------------- 0.8/7.6 MB 809.0 kB/s eta 0:00:09\n",
      "   ---- ----------------------------------- 0.9/7.6 MB 821.5 kB/s eta 0:00:09\n",
      "   ----- ---------------------------------- 1.0/7.6 MB 879.9 kB/s eta 0:00:08\n",
      "   ----- ---------------------------------- 1.0/7.6 MB 885.6 kB/s eta 0:00:08\n",
      "   ----- ---------------------------------- 1.0/7.6 MB 885.6 kB/s eta 0:00:08\n",
      "   ----- ---------------------------------- 1.0/7.6 MB 837.4 kB/s eta 0:00:08\n",
      "   ----- ---------------------------------- 1.1/7.6 MB 871.3 kB/s eta 0:00:08\n",
      "   ------ --------------------------------- 1.2/7.6 MB 886.7 kB/s eta 0:00:08\n",
      "   ------ --------------------------------- 1.3/7.6 MB 938.4 kB/s eta 0:00:07\n",
      "   ------- -------------------------------- 1.3/7.6 MB 936.1 kB/s eta 0:00:07\n",
      "   ------- -------------------------------- 1.3/7.6 MB 936.1 kB/s eta 0:00:07\n",
      "   ------- -------------------------------- 1.4/7.6 MB 884.9 kB/s eta 0:00:08\n",
      "   ------- -------------------------------- 1.4/7.6 MB 910.7 kB/s eta 0:00:07\n",
      "   ------- -------------------------------- 1.5/7.6 MB 901.1 kB/s eta 0:00:07\n",
      "   -------- ------------------------------- 1.6/7.6 MB 924.8 kB/s eta 0:00:07\n",
      "   -------- ------------------------------- 1.6/7.6 MB 941.2 kB/s eta 0:00:07\n",
      "   -------- ------------------------------- 1.7/7.6 MB 962.5 kB/s eta 0:00:07\n",
      "   --------- ------------------------------ 1.8/7.6 MB 988.4 kB/s eta 0:00:06\n",
      "   --------- ------------------------------ 1.9/7.6 MB 1.0 MB/s eta 0:00:06\n",
      "   ---------- ----------------------------- 2.0/7.6 MB 1.0 MB/s eta 0:00:06\n",
      "   ---------- ----------------------------- 2.0/7.6 MB 1.0 MB/s eta 0:00:06\n",
      "   ---------- ----------------------------- 2.1/7.6 MB 1.0 MB/s eta 0:00:06\n",
      "   ----------- ---------------------------- 2.2/7.6 MB 1.0 MB/s eta 0:00:06\n",
      "   ----------- ---------------------------- 2.3/7.6 MB 1.1 MB/s eta 0:00:06\n",
      "   ------------ --------------------------- 2.4/7.6 MB 1.1 MB/s eta 0:00:05\n",
      "   ------------- -------------------------- 2.5/7.6 MB 1.1 MB/s eta 0:00:05\n",
      "   ------------- -------------------------- 2.6/7.6 MB 1.1 MB/s eta 0:00:05\n",
      "   ------------- -------------------------- 2.6/7.6 MB 1.1 MB/s eta 0:00:05\n",
      "   -------------- ------------------------- 2.7/7.6 MB 1.1 MB/s eta 0:00:05\n",
      "   -------------- ------------------------- 2.7/7.6 MB 1.1 MB/s eta 0:00:05\n",
      "   -------------- ------------------------- 2.8/7.6 MB 1.1 MB/s eta 0:00:05\n",
      "   -------------- ------------------------- 2.8/7.6 MB 1.1 MB/s eta 0:00:05\n",
      "   --------------- ------------------------ 2.9/7.6 MB 1.1 MB/s eta 0:00:05\n",
      "   --------------- ------------------------ 2.9/7.6 MB 1.1 MB/s eta 0:00:05\n",
      "   --------------- ------------------------ 3.0/7.6 MB 1.1 MB/s eta 0:00:05\n",
      "   --------------- ------------------------ 3.0/7.6 MB 1.1 MB/s eta 0:00:05\n",
      "   --------------- ------------------------ 3.0/7.6 MB 1.1 MB/s eta 0:00:05\n",
      "   ---------------- ----------------------- 3.1/7.6 MB 1.1 MB/s eta 0:00:05\n",
      "   ---------------- ----------------------- 3.1/7.6 MB 1.1 MB/s eta 0:00:05\n",
      "   ---------------- ----------------------- 3.1/7.6 MB 1.1 MB/s eta 0:00:05\n",
      "   ---------------- ----------------------- 3.2/7.6 MB 1.1 MB/s eta 0:00:05\n",
      "   ---------------- ----------------------- 3.2/7.6 MB 1.1 MB/s eta 0:00:05\n",
      "   ----------------- ---------------------- 3.3/7.6 MB 1.1 MB/s eta 0:00:05\n",
      "   ----------------- ---------------------- 3.4/7.6 MB 1.1 MB/s eta 0:00:04\n",
      "   ----------------- ---------------------- 3.4/7.6 MB 1.1 MB/s eta 0:00:04\n",
      "   ------------------ --------------------- 3.5/7.6 MB 1.1 MB/s eta 0:00:04\n",
      "   ------------------ --------------------- 3.6/7.6 MB 1.1 MB/s eta 0:00:04\n",
      "   ------------------- -------------------- 3.7/7.6 MB 1.1 MB/s eta 0:00:04\n",
      "   ------------------- -------------------- 3.7/7.6 MB 1.1 MB/s eta 0:00:04\n",
      "   ------------------- -------------------- 3.8/7.6 MB 1.1 MB/s eta 0:00:04\n",
      "   -------------------- ------------------- 3.8/7.6 MB 1.1 MB/s eta 0:00:04\n",
      "   -------------------- ------------------- 3.9/7.6 MB 1.1 MB/s eta 0:00:04\n",
      "   -------------------- ------------------- 4.0/7.6 MB 1.1 MB/s eta 0:00:04\n",
      "   --------------------- ------------------ 4.1/7.6 MB 1.1 MB/s eta 0:00:04\n",
      "   --------------------- ------------------ 4.2/7.6 MB 1.2 MB/s eta 0:00:03\n",
      "   ---------------------- ----------------- 4.3/7.6 MB 1.2 MB/s eta 0:00:03\n",
      "   ----------------------- ---------------- 4.5/7.6 MB 1.2 MB/s eta 0:00:03\n",
      "   ------------------------ --------------- 4.6/7.6 MB 1.2 MB/s eta 0:00:03\n",
      "   ------------------------ --------------- 4.8/7.6 MB 1.3 MB/s eta 0:00:03\n",
      "   ------------------------- -------------- 4.9/7.6 MB 1.3 MB/s eta 0:00:03\n",
      "   -------------------------- ------------- 5.0/7.6 MB 1.3 MB/s eta 0:00:03\n",
      "   --------------------------- ------------ 5.2/7.6 MB 1.3 MB/s eta 0:00:02\n",
      "   ---------------------------- ----------- 5.4/7.6 MB 1.3 MB/s eta 0:00:02\n",
      "   ---------------------------- ----------- 5.5/7.6 MB 1.4 MB/s eta 0:00:02\n",
      "   ----------------------------- ---------- 5.7/7.6 MB 1.4 MB/s eta 0:00:02\n",
      "   ------------------------------ --------- 5.8/7.6 MB 1.4 MB/s eta 0:00:02\n",
      "   ------------------------------ --------- 5.9/7.6 MB 1.4 MB/s eta 0:00:02\n",
      "   ------------------------------- -------- 5.9/7.6 MB 1.4 MB/s eta 0:00:02\n",
      "   ------------------------------- -------- 6.0/7.6 MB 1.4 MB/s eta 0:00:02\n",
      "   ------------------------------- -------- 6.1/7.6 MB 1.4 MB/s eta 0:00:02\n",
      "   -------------------------------- ------- 6.2/7.6 MB 1.4 MB/s eta 0:00:02\n",
      "   --------------------------------- ------ 6.3/7.6 MB 1.4 MB/s eta 0:00:01\n",
      "   --------------------------------- ------ 6.4/7.6 MB 1.4 MB/s eta 0:00:01\n",
      "   ---------------------------------- ----- 6.5/7.6 MB 1.4 MB/s eta 0:00:01\n",
      "   ---------------------------------- ----- 6.6/7.6 MB 1.5 MB/s eta 0:00:01\n",
      "   ----------------------------------- ---- 6.8/7.6 MB 1.5 MB/s eta 0:00:01\n",
      "   ------------------------------------ --- 6.9/7.6 MB 1.5 MB/s eta 0:00:01\n",
      "   ------------------------------------ --- 7.0/7.6 MB 1.5 MB/s eta 0:00:01\n",
      "   ------------------------------------- -- 7.2/7.6 MB 1.5 MB/s eta 0:00:01\n",
      "   -------------------------------------- - 7.3/7.6 MB 1.5 MB/s eta 0:00:01\n",
      "   -------------------------------------- - 7.4/7.6 MB 1.5 MB/s eta 0:00:01\n",
      "   ---------------------------------------  7.5/7.6 MB 1.5 MB/s eta 0:00:01\n",
      "   ---------------------------------------  7.6/7.6 MB 1.5 MB/s eta 0:00:01\n",
      "   ---------------------------------------- 7.6/7.6 MB 1.5 MB/s eta 0:00:00\n",
      "Installing collected packages: matplotlib, seaborn\n",
      "  Attempting uninstall: matplotlib\n",
      "    Found existing installation: matplotlib 3.8.0\n",
      "    Uninstalling matplotlib-3.8.0:\n",
      "Note: you may need to restart the kernel to use updated packages.\n"
     ]
    },
    {
     "name": "stderr",
     "output_type": "stream",
     "text": [
      "ERROR: Could not install packages due to an OSError: [WinError 32] The process cannot access the file because it is being used by another process: 'c:\\\\users\\\\nitya\\\\anaconda3\\\\lib\\\\site-packages\\\\matplotlib\\\\mpl-data\\\\fonts\\\\ttf\\\\DejaVuSans.ttf'\n",
      "Consider using the `--user` option or check the permissions.\n",
      "\n"
     ]
    }
   ],
   "source": [
    "pip install --upgrade seaborn matplotlib\n"
   ]
  },
  {
   "cell_type": "code",
   "execution_count": 28,
   "metadata": {},
   "outputs": [
    {
     "name": "stdout",
     "output_type": "stream",
     "text": [
      "             clusters  gender  cholesterol  gluc  smoke  alco  active  cardio  \\\n",
      "clusters         1.00    0.01        -0.17 -0.07   0.02  0.00    0.02   -0.72   \n",
      "gender           0.01    1.00        -0.04 -0.02   0.34  0.17    0.01   -0.00   \n",
      "cholesterol     -0.17   -0.04         1.00  0.45   0.00  0.03    0.01    0.22   \n",
      "gluc            -0.07   -0.02         0.45  1.00  -0.01  0.00   -0.01    0.09   \n",
      "smoke            0.02    0.34         0.00 -0.01   1.00  0.34    0.03   -0.02   \n",
      "alco             0.00    0.17         0.03  0.00   0.34  1.00    0.03   -0.01   \n",
      "active           0.02    0.01         0.01 -0.01   0.03  0.03    1.00   -0.04   \n",
      "cardio          -0.72   -0.00         0.22  0.09  -0.02 -0.01   -0.04    1.00   \n",
      "age_group       -0.19   -0.02         0.15  0.10  -0.04 -0.03   -0.01    0.23   \n",
      "bmi             -0.29   -0.14         0.16  0.10  -0.04  0.01   -0.01    0.16   \n",
      "map             -0.32    0.05         0.18  0.07   0.02  0.03    0.00    0.40   \n",
      "\n",
      "             age_group   bmi   map  \n",
      "clusters         -0.19 -0.29 -0.32  \n",
      "gender           -0.02 -0.14  0.05  \n",
      "cholesterol       0.15  0.16  0.18  \n",
      "gluc              0.10  0.10  0.07  \n",
      "smoke            -0.04 -0.04  0.02  \n",
      "alco             -0.03  0.01  0.03  \n",
      "active           -0.01 -0.01  0.00  \n",
      "cardio            0.23  0.16  0.40  \n",
      "age_group         1.00  0.10  0.17  \n",
      "bmi               0.10  1.00  0.22  \n",
      "map               0.17  0.22  1.00  \n"
     ]
    }
   ],
   "source": [
    "import matplotlib.pyplot as plt\n",
    "matrix = df.corr()\n",
    "rounded_matrix = matrix.round(2)\n",
    "# Print the rounded correlation matrix\n",
    "print(rounded_matrix)"
   ]
  },
  {
   "cell_type": "markdown",
   "metadata": {},
   "source": [
    "# Split Data¶\n",
    "Training set: 80%\n",
    "\n",
    "Test set: 20%\n",
    "\n",
    "According to the correlation table, gender has 0 correlation with our target. Moreover, ‘alco’ has 0.01 correlation. Therefore, we dropped those two features and saw an increase in the performance of our models."
   ]
  },
  {
   "cell_type": "code",
   "execution_count": 29,
   "metadata": {},
   "outputs": [],
   "source": [
    "x = df.drop(['cardio','gender','alco','smoke','active'], axis=1)\n",
    "y = df['cardio']"
   ]
  },
  {
   "cell_type": "code",
   "execution_count": 30,
   "metadata": {},
   "outputs": [],
   "source": [
    "x_train,x_test,y_train,y_test=train_test_split(x,y,test_size=0.20,random_state=1)"
   ]
  },
  {
   "cell_type": "code",
   "execution_count": 31,
   "metadata": {},
   "outputs": [],
   "source": [
    "from sklearn.model_selection import cross_validate\n",
    "def cross_validation(model, _X, _y, _cv=3):\n",
    "      _scoring = ['accuracy', 'precision', 'recall', 'f1']\n",
    "      results = cross_validate(estimator=model,\n",
    "                               X=_X,\n",
    "                               y=_y,\n",
    "                               cv=_cv,\n",
    "                               scoring=_scoring,\n",
    "                               return_train_score=True)\n",
    "\n",
    "      return {\"Training Accuracy scores\": results['train_accuracy'],\n",
    "              \"Training Precision scores\": results['train_precision'],\n",
    "              \"Training Recall scores\": results['train_recall'],\n",
    "              \"Training F1 scores\": results['train_f1'],\n",
    "              \"Validation Accuracy scores\": results['test_accuracy'],\n",
    "              \"Validation Precision scores\": results['test_precision'],\n",
    "              \"Validation Recall scores\": results['test_recall'],\n",
    "              \"Validation F1 scores\": results['test_f1']\n",
    "              }"
   ]
  },
  {
   "cell_type": "markdown",
   "metadata": {},
   "source": [
    "# Random Forest"
   ]
  },
  {
   "cell_type": "code",
   "execution_count": 32,
   "metadata": {},
   "outputs": [
    {
     "name": "stdout",
     "output_type": "stream",
     "text": [
      "{'Training Accuracy scores': array([0.90552679, 0.90531142, 0.90771294]), 'Training Precision scores': array([0.91272893, 0.91562151, 0.9142058 ]), 'Training Recall scores': array([0.89231553, 0.88843581, 0.89550812]), 'Training F1 scores': array([0.9024068 , 0.90182383, 0.90476037]), 'Validation Accuracy scores': array([0.90662425, 0.90661843, 0.90175285]), 'Validation Precision scores': array([0.91288519, 0.91298127, 0.91219769]), 'Validation Recall scores': array([0.89462283, 0.89448197, 0.88441443]), 'Validation F1 scores': array([0.90366175, 0.90363695, 0.89809123])}\n",
      "Best Parameters : {'max_depth': 10, 'max_features': None, 'min_samples_leaf': 1, 'min_samples_split': 10, 'n_estimators': 100}\n",
      "Best Estimator  : RandomForestClassifier(max_depth=10, max_features=None, min_samples_split=10)\n",
      "The accuracy score achieved using random forest is: 90.27 %\n",
      "The precision score achieved using random forest is: 90.97 %\n",
      "The recall score achieved using random forest is: 88.68 %\n",
      "The f1 score achieved using random forest is: 89.81 %\n",
      "\n",
      "Confusion Matrix:\n",
      "[[5698  512]\n",
      " [ 658 5156]]\n"
     ]
    }
   ],
   "source": [
    "from sklearn.metrics import accuracy_score,precision_score,recall_score,f1_score,confusion_matrix\n",
    "# Initialize RandomForestClassifier\n",
    "rf_model = RandomForestClassifier()\n",
    "rf_best_params = {\n",
    "    'n_estimators': [100],\n",
    "    'max_depth': [10],\n",
    "    'min_samples_split': [10],\n",
    "    'min_samples_leaf': [1],\n",
    "    'max_features': [None],\n",
    "}\n",
    "rf_gridsearch = GridSearchCV(estimator=rf_model,param_grid=rf_best_params, cv=5, scoring='accuracy',n_jobs=-1)\n",
    "\n",
    "# Fit grid search\n",
    "rf_gridsearch.fit(x_train, y_train)\n",
    "rf_result=cross_validation(rf_gridsearch, x_train, y_train, 3)\n",
    "print(rf_result)\n",
    "best_params = rf_gridsearch.best_params_\n",
    "best_estimator = rf_gridsearch.best_estimator_\n",
    "\n",
    "print(f\"Best Parameters : {best_params}\")\n",
    "print(f\"Best Estimator  : {best_estimator}\")\n",
    "# Make prediction using best estimator\n",
    "\n",
    "y_pred_rf = best_estimator.predict(x_test)\n",
    "rf_accuracy= round(accuracy_score(y_test, y_pred_rf)*100,2)\n",
    "precision_rf= round(precision_score(y_test,y_pred_rf)*100,2)\n",
    "recall_rf = round(recall_score(y_test,y_pred_rf )*100,2)\n",
    "f1_rf = round(f1_score(y_test,y_pred_rf)*100,2)\n",
    "print(\"The accuracy score achieved using random forest is: \"+str(rf_accuracy)+\" %\")\n",
    "print(\"The precision score achieved using random forest is: \"+str(precision_rf)+\" %\")\n",
    "print(\"The recall score achieved using random forest is: \"+str(recall_rf)+\" %\")\n",
    "print(\"The f1 score achieved using random forest is: \"+str(f1_rf)+\" %\")\n",
    "print()\n",
    "conf_matrix = confusion_matrix(y_test, y_pred_rf)\n",
    "print('Confusion Matrix:')\n",
    "print(conf_matrix)"
   ]
  },
  {
   "cell_type": "code",
   "execution_count": 30,
   "metadata": {},
   "outputs": [
    {
     "name": "stdout",
     "output_type": "stream",
     "text": [
      "Requirement already satisfied: joblib in c:\\users\\meesala ramya\\anaconda3\\lib\\site-packages (1.2.0)\n",
      "Note: you may need to restart the kernel to use updated packages.\n"
     ]
    },
    {
     "name": "stderr",
     "output_type": "stream",
     "text": [
      "WARNING: Ignoring invalid distribution -cikit-learn (c:\\users\\meesala ramya\\anaconda3\\lib\\site-packages)\n",
      "WARNING: Ignoring invalid distribution -atplotlib (c:\\users\\meesala ramya\\anaconda3\\lib\\site-packages)\n",
      "WARNING: Ignoring invalid distribution -cikit-learn (c:\\users\\meesala ramya\\anaconda3\\lib\\site-packages)\n",
      "WARNING: Ignoring invalid distribution -atplotlib (c:\\users\\meesala ramya\\anaconda3\\lib\\site-packages)\n",
      "WARNING: Ignoring invalid distribution -cikit-learn (c:\\users\\meesala ramya\\anaconda3\\lib\\site-packages)\n",
      "WARNING: Ignoring invalid distribution -atplotlib (c:\\users\\meesala ramya\\anaconda3\\lib\\site-packages)\n",
      "WARNING: Ignoring invalid distribution -cikit-learn (c:\\users\\meesala ramya\\anaconda3\\lib\\site-packages)\n",
      "WARNING: Ignoring invalid distribution -atplotlib (c:\\users\\meesala ramya\\anaconda3\\lib\\site-packages)\n",
      "WARNING: Ignoring invalid distribution -cikit-learn (c:\\users\\meesala ramya\\anaconda3\\lib\\site-packages)\n",
      "WARNING: Ignoring invalid distribution -atplotlib (c:\\users\\meesala ramya\\anaconda3\\lib\\site-packages)\n",
      "WARNING: Ignoring invalid distribution -cikit-learn (c:\\users\\meesala ramya\\anaconda3\\lib\\site-packages)\n",
      "WARNING: Ignoring invalid distribution -atplotlib (c:\\users\\meesala ramya\\anaconda3\\lib\\site-packages)\n"
     ]
    }
   ],
   "source": [
    "pip install joblib"
   ]
  },
  {
   "cell_type": "code",
   "execution_count": 33,
   "metadata": {},
   "outputs": [
    {
     "name": "stdout",
     "output_type": "stream",
     "text": [
      "rf_gridsearch model saved to rf_gridsearch.pkl\n"
     ]
    }
   ],
   "source": [
    "import joblib\n",
    "filename=\"rf_gridsearch.pkl\"\n",
    "with open('rf_gridsearch.pkl', 'wb') as f:\n",
    "    joblib.dump(rf_gridsearch , f)\n",
    "print(\"rf_gridsearch model saved to\",filename)"
   ]
  },
  {
   "cell_type": "markdown",
   "metadata": {},
   "source": [
    "# svm"
   ]
  },
  {
   "cell_type": "code",
   "execution_count": 34,
   "metadata": {},
   "outputs": [
    {
     "name": "stdout",
     "output_type": "stream",
     "text": [
      "{'Training Accuracy scores': array([0.90262616, 0.90247326, 0.90524904]), 'Training Precision scores': array([0.90460865, 0.91527888, 0.91102163]), 'Training Recall scores': array([0.89550147, 0.88244664, 0.89372412]), 'Training F1 scores': array([0.90003202, 0.89856295, 0.90228998]), 'Validation Accuracy scores': array([0.90469062, 0.90505895, 0.90031813]), 'Validation Precision scores': array([0.90721649, 0.91258969, 0.91020087]), 'Validation Recall scores': array([0.89704383, 0.89142347, 0.88352237]), 'Validation F1 scores': array([0.90210149, 0.90188241, 0.89666322])}\n",
      "The accuracy score achieved using Support Vector Machine is: 90.06 %\n",
      "The precision score achieved using Support Vector Machine is: 90.77 %\n",
      "The recall score achieved using Support Vector Machine is: 88.44 %\n",
      "The f1 score achieved using Support Vector Machine is: 89.59 %\n",
      "\n",
      "Confusion Matrix:\n",
      "[[5687  523]\n",
      " [ 672 5142]]\n"
     ]
    }
   ],
   "source": [
    "from sklearn.metrics import accuracy_score,precision_score,recall_score,f1_score,confusion_matrix\n",
    "import pandas as pd\n",
    "from sklearn.model_selection import train_test_split\n",
    "from sklearn.svm import SVC\n",
    "from sklearn.preprocessing import StandardScaler\n",
    "scaler = StandardScaler()\n",
    "X_train_scaled = scaler.fit_transform(x_train)\n",
    "X_test_scaled = scaler.transform(x_test)\n",
    "# Initialize the SVM classifier\n",
    "svm_classifier = SVC(kernel='rbf',random_state=42,probability=True)\n",
    "# Train the SVM model on the training data\n",
    "svm_classifier.fit(X_train_scaled, y_train)\n",
    "svm_result = cross_validation(svm_classifier, x_train, y_train, 3)\n",
    "print(svm_result)\n",
    "# Make predictions on the test data\n",
    "Y_pred_svm = svm_classifier.predict(X_test_scaled)\n",
    "# Evaluate the performance of the SVM model\n",
    "score_svm = round(accuracy_score(Y_pred_svm,y_test)*100,2)\n",
    "precision_svm = round(precision_score(y_test,Y_pred_svm,zero_division=1)*100,2)\n",
    "recall_svm = round(recall_score(y_test,Y_pred_svm)*100,2)\n",
    "f1_svm = round(f1_score(y_test,Y_pred_svm)*100,2)\n",
    "print(\"The accuracy score achieved using Support Vector Machine is: \"+str(score_svm)+\" %\")\n",
    "print(\"The precision score achieved using Support Vector Machine is: \"+str(precision_svm)+\" %\")\n",
    "print(\"The recall score achieved using Support Vector Machine is: \"+str(recall_svm)+\" %\")\n",
    "print(\"The f1 score achieved using Support Vector Machine is: \"+str(f1_svm)+\" %\")\n",
    "print()\n",
    "conf_matrix = confusion_matrix(y_test, Y_pred_svm)\n",
    "print('Confusion Matrix:')\n",
    "print(conf_matrix)\n"
   ]
  },
  {
   "cell_type": "code",
   "execution_count": 35,
   "metadata": {},
   "outputs": [
    {
     "name": "stdout",
     "output_type": "stream",
     "text": [
      "svm_classifier model saved to svm_classifier.pkl\n"
     ]
    }
   ],
   "source": [
    "import joblib\n",
    "filename=\"svm_classifier.pkl\"\n",
    "with open('svm_classifier.pkl', 'wb') as f:\n",
    "      joblib.dump(svm_classifier, f)\n",
    "print(\"svm_classifier model saved to\",filename)"
   ]
  },
  {
   "cell_type": "markdown",
   "metadata": {},
   "source": [
    "# Naive Bayes"
   ]
  },
  {
   "cell_type": "code",
   "execution_count": 36,
   "metadata": {},
   "outputs": [
    {
     "name": "stdout",
     "output_type": "stream",
     "text": [
      "{'Training Accuracy scores': array([0.84465237, 0.84678363, 0.84662768, 0.85063028, 0.84569602]), 'Training Precision scores': array([0.76297811, 0.76537184, 0.76493485, 0.77059553, 0.76381786]), 'Training Recall scores': array([0.99028353, 0.99070829, 0.99129188, 0.98938034, 0.99129234]), 'Training F1 scores': array([0.86189607, 0.86358272, 0.86352598, 0.86638923, 0.86281397]), 'Validation Accuracy scores': array([0.85279135, 0.84426656, 0.84489032, 0.84333091, 0.84861718]), 'Validation Precision scores': array([0.77152755, 0.76191253, 0.7636453 , 0.76143044, 0.76813984]), 'Validation Recall scores': array([0.99341546, 0.99171623, 0.98938203, 0.99023147, 0.98937978]), 'Validation F1 scores': array([0.86852368, 0.86175711, 0.86197965, 0.86088803, 0.86483476])}\n",
      "The accuracy score achieved using Naive Bayes is: 84.36 %\n",
      "The precision score achieved using Naive Bayes is: 75.93 %\n",
      "The recall score achieved using Naive Bayes is: 99.07 %\n",
      "The f1 score achieved using Naive Bayes is: 85.97 %\n",
      "\n",
      "Confusion Matrix:\n",
      "[[4384 1826]\n",
      " [  54 5760]]\n"
     ]
    }
   ],
   "source": [
    "from sklearn.metrics import accuracy_score,precision_score,recall_score,f1_score,confusion_matrix\n",
    "from sklearn.naive_bayes import GaussianNB\n",
    "from sklearn.model_selection import GridSearchCV\n",
    "import numpy as np\n",
    "param_grid_nb = {\n",
    "    'var_smoothing': np.logspace(0,-10, num=10)\n",
    "}\n",
    "nb = GridSearchCV(estimator=GaussianNB(), param_grid=param_grid_nb, n_jobs=-1)\n",
    "nb.fit(x_train, y_train)\n",
    "nb_result = cross_validation(nb, x_train, y_train, 5)\n",
    "print(nb_result)\n",
    "Y_pred_nb = nb.predict(x_test)\n",
    "score_nb = round(accuracy_score(Y_pred_nb,y_test)*100,2)\n",
    "precision_nb = round(precision_score(y_test,Y_pred_nb,zero_division=1)*100,2)\n",
    "recall_nb = round(recall_score(y_test,Y_pred_nb,zero_division=1)*100,2)\n",
    "f1_nb = round(f1_score(y_test,Y_pred_nb,zero_division=1)*100,2)\n",
    "\n",
    "print(\"The accuracy score achieved using Naive Bayes is: \"+str(score_nb)+\" %\")\n",
    "print(\"The precision score achieved using Naive Bayes is: \"+str(precision_nb)+\" %\")\n",
    "print(\"The recall score achieved using Naive Bayes is: \"+str(recall_nb)+\" %\")\n",
    "print(\"The f1 score achieved using Naive Bayes is: \"+str(f1_nb)+\" %\")\n",
    "print()\n",
    "conf_matrix = confusion_matrix(y_test, Y_pred_nb)\n",
    "print('Confusion Matrix:')\n",
    "print(conf_matrix)\n"
   ]
  },
  {
   "cell_type": "code",
   "execution_count": 37,
   "metadata": {},
   "outputs": [
    {
     "name": "stdout",
     "output_type": "stream",
     "text": [
      "naive bayes model saved to nb.pkl\n"
     ]
    }
   ],
   "source": [
    "import joblib\n",
    "filename=\"nb.pkl\"\n",
    "with open('nb.pkl', 'wb') as f:\n",
    "    joblib.dump(nb, f)\n",
    "print(\"naive bayes model saved to\",filename)"
   ]
  },
  {
   "cell_type": "markdown",
   "metadata": {},
   "source": [
    "# Logistic Regression"
   ]
  },
  {
   "cell_type": "code",
   "execution_count": 38,
   "metadata": {},
   "outputs": [
    {
     "name": "stdout",
     "output_type": "stream",
     "text": [
      "Cross-validation results: [0.84961327 0.84854345 0.84985341]\n",
      "The accuracy score achieved using XGBoost is: 84.5 %\n",
      "The precision score achieved using XGBoost is: 77.98 %\n",
      "The recall score achieved using XGBoost is: 94.67 %\n",
      "The f1 score achieved using XGBoost is: 85.52 %\n",
      "Confusion Matrix:\n",
      "[[4656 1554]\n",
      " [ 310 5504]]\n"
     ]
    }
   ],
   "source": [
    "from sklearn.preprocessing import MinMaxScaler\n",
    "from sklearn.linear_model import LogisticRegression\n",
    "from sklearn.metrics import accuracy_score,precision_score,recall_score,f1_score, confusion_matrix\n",
    "from sklearn.model_selection import train_test_split\n",
    "\n",
    "# Perform Min-Max scaling\n",
    "scaler = MinMaxScaler()\n",
    "x_train_scaled = scaler.fit_transform(x_train)\n",
    "x_test_scaled = scaler.transform(x_test)\n",
    "\n",
    "# Initialize Logistic Regression model\n",
    "logreg_model = LogisticRegression()\n",
    "\n",
    "# Fit the model\n",
    "logreg_model.fit(x_train_scaled, y_train)\n",
    "logreg_result = cross_val_score(logreg_model, x_train, y_train, cv=3, scoring='accuracy')\n",
    "print(\"Cross-validation results:\", logreg_result)\n",
    "\n",
    "# Make predictions on the test set\n",
    "Y_pred_lr= logreg_model.predict(x_test_scaled)\n",
    "\n",
    "# Evaluate the model\n",
    "accuracy_lg= round(accuracy_score(y_test, Y_pred_lr)*100,2)\n",
    "precision_lg= round(precision_score(y_test, Y_pred_lr) * 100, 2)\n",
    "recall_lg= round(recall_score(y_test, Y_pred_lr) * 100, 2)\n",
    "f1_lg= round(f1_score(y_test, Y_pred_lr) * 100, 2)\n",
    "\n",
    "print(\"The accuracy score achieved using XGBoost is:\", accuracy_lg, \"%\")\n",
    "print(\"The precision score achieved using XGBoost is:\", precision_lg, \"%\")\n",
    "print(\"The recall score achieved using XGBoost is:\", recall_lg, \"%\")\n",
    "print(\"The f1 score achieved using XGBoost is:\", f1_lg, \"%\")\n",
    "conf_matrix = confusion_matrix(y_test, Y_pred_lr)\n",
    "print('Confusion Matrix:')\n",
    "print(conf_matrix)\n"
   ]
  },
  {
   "cell_type": "code",
   "execution_count": 39,
   "metadata": {},
   "outputs": [
    {
     "name": "stdout",
     "output_type": "stream",
     "text": [
      "logistic regression model saved to logreg_model.pkl\n"
     ]
    }
   ],
   "source": [
    "import joblib\n",
    "filename=\"logreg_model.pkl\"\n",
    "with open('logreg_model.pkl', 'wb') as f:\n",
    "    joblib.dump(logreg_model, f)\n",
    "print(\"logistic regression model saved to\",filename)"
   ]
  },
  {
   "cell_type": "markdown",
   "metadata": {},
   "source": [
    "# XG Boosting"
   ]
  },
  {
   "cell_type": "code",
   "execution_count": 42,
   "metadata": {},
   "outputs": [
    {
     "name": "stdout",
     "output_type": "stream",
     "text": [
      "Collecting xgboost\n",
      "  Downloading xgboost-2.0.3-py3-none-win_amd64.whl (99.8 MB)\n",
      "Requirement already satisfied: scipy in c:\\users\\meesala ramya\\anaconda3\\lib\\site-packages (from xgboost) (1.7.1)\n",
      "Requirement already satisfied: numpy in c:\\users\\meesala ramya\\anaconda3\\lib\\site-packages (from xgboost) (1.22.4)\n",
      "Note: you may need to restart the kernel to use updated packages.\n"
     ]
    },
    {
     "name": "stderr",
     "output_type": "stream",
     "text": [
      "WARNING: Ignoring invalid distribution -cikit-learn (c:\\users\\meesala ramya\\anaconda3\\lib\\site-packages)\n",
      "WARNING: Ignoring invalid distribution -atplotlib (c:\\users\\meesala ramya\\anaconda3\\lib\\site-packages)\n"
     ]
    },
    {
     "name": "stdout",
     "output_type": "stream",
     "text": [
      "Installing collected packages: xgboost\n",
      "Successfully installed xgboost-2.0.3\n"
     ]
    },
    {
     "name": "stderr",
     "output_type": "stream",
     "text": [
      "WARNING: Ignoring invalid distribution -cikit-learn (c:\\users\\meesala ramya\\anaconda3\\lib\\site-packages)\n",
      "WARNING: Ignoring invalid distribution -atplotlib (c:\\users\\meesala ramya\\anaconda3\\lib\\site-packages)\n",
      "WARNING: Ignoring invalid distribution -cikit-learn (c:\\users\\meesala ramya\\anaconda3\\lib\\site-packages)\n",
      "WARNING: Ignoring invalid distribution -atplotlib (c:\\users\\meesala ramya\\anaconda3\\lib\\site-packages)\n",
      "WARNING: Ignoring invalid distribution -cikit-learn (c:\\users\\meesala ramya\\anaconda3\\lib\\site-packages)\n",
      "WARNING: Ignoring invalid distribution -atplotlib (c:\\users\\meesala ramya\\anaconda3\\lib\\site-packages)\n",
      "WARNING: Ignoring invalid distribution -cikit-learn (c:\\users\\meesala ramya\\anaconda3\\lib\\site-packages)\n",
      "WARNING: Ignoring invalid distribution -atplotlib (c:\\users\\meesala ramya\\anaconda3\\lib\\site-packages)\n",
      "WARNING: Ignoring invalid distribution -cikit-learn (c:\\users\\meesala ramya\\anaconda3\\lib\\site-packages)\n",
      "WARNING: Ignoring invalid distribution -atplotlib (c:\\users\\meesala ramya\\anaconda3\\lib\\site-packages)\n",
      "WARNING: Ignoring invalid distribution -cikit-learn (c:\\users\\meesala ramya\\anaconda3\\lib\\site-packages)\n",
      "WARNING: Ignoring invalid distribution -atplotlib (c:\\users\\meesala ramya\\anaconda3\\lib\\site-packages)\n"
     ]
    }
   ],
   "source": [
    "pip install xgboost\n"
   ]
  },
  {
   "cell_type": "code",
   "execution_count": 40,
   "metadata": {},
   "outputs": [
    {
     "name": "stdout",
     "output_type": "stream",
     "text": [
      "Cross-validation results: [0.9064995  0.90624415 0.90181523]\n",
      "Mean cross-validation accuracy: 0.9048529619798932\n",
      "The accuracy score achieved using XGBoost is: 90.31 %\n",
      "The precision score achieved using XGBoost is: 91.43 %\n",
      "The recall score achieved using XGBoost is: 88.24 %\n",
      "The f1 score achieved using XGBoost is: 89.8 %\n",
      "Confusion Matrix:\n",
      "[[5729  481]\n",
      " [ 684 5130]]\n"
     ]
    }
   ],
   "source": [
    "import xgboost as xgb\n",
    "from sklearn.metrics import accuracy_score, precision_score, recall_score, f1_score\n",
    "from sklearn.model_selection import cross_val_score\n",
    "import numpy as np\n",
    "# Set XGBoost parameters \n",
    "xgb_model = xgb.XGBClassifier(objective=\"binary:logistic\", random_state=42, max_depth=1)\n",
    "\n",
    "# Train the model\n",
    "xgb_model.fit(x_train, y_train)\n",
    "\n",
    "# Perform cross-validation\n",
    "xgb_result = cross_val_score(xgb_model, x_train, y_train, cv=3, scoring='accuracy')\n",
    "print(\"Cross-validation results:\", xgb_result)\n",
    "print(\"Mean cross-validation accuracy:\", np.mean(xgb_result))\n",
    "\n",
    "# Evaluate on test set\n",
    "Y_pred_xgb = xgb_model.predict(x_test)\n",
    "score_xgb = round(accuracy_score(Y_pred_xgb, y_test) * 100, 2)\n",
    "precision_xgb = round(precision_score(y_test, Y_pred_xgb) * 100, 2)\n",
    "recall_xgb = round(recall_score(y_test, Y_pred_xgb) * 100, 2)\n",
    "f1_xgb = round(f1_score(y_test, Y_pred_xgb) * 100, 2)\n",
    "\n",
    "print(\"The accuracy score achieved using XGBoost is:\", score_xgb, \"%\")\n",
    "print(\"The precision score achieved using XGBoost is:\", precision_xgb, \"%\")\n",
    "print(\"The recall score achieved using XGBoost is:\", recall_xgb, \"%\")\n",
    "print(\"The f1 score achieved using XGBoost is:\", f1_xgb, \"%\")\n",
    "conf_matrix = confusion_matrix(y_test, Y_pred_xgb)\n",
    "print('Confusion Matrix:')\n",
    "print(conf_matrix)\n"
   ]
  },
  {
   "cell_type": "code",
   "execution_count": 41,
   "metadata": {},
   "outputs": [
    {
     "name": "stdout",
     "output_type": "stream",
     "text": [
      "xgb model saved to xgb_model.pkl\n"
     ]
    }
   ],
   "source": [
    "import joblib\n",
    "filename=\"xgb_model.pkl\"\n",
    "with open('xgb_model.pkl', 'wb') as f:\n",
    "    joblib.dump(xgb_model, f)\n",
    "print(\"xgb model saved to\",filename)"
   ]
  },
  {
   "cell_type": "markdown",
   "metadata": {},
   "source": [
    "# visualization"
   ]
  },
  {
   "cell_type": "code",
   "execution_count": 42,
   "metadata": {},
   "outputs": [
    {
     "name": "stdout",
     "output_type": "stream",
     "text": [
      "The accuracy score achieved using Naive Bayes is: 84.36 %\n",
      "The accuracy score achieved using Support Vector Machine is: 90.06 %\n",
      "The accuracy score achieved using random forest is: 90.27 %\n",
      "The accuracy score achieved using logistic regression is: 84.5 %\n",
      "The accuracy score achieved using XGBoost is: 90.31 %\n"
     ]
    },
    {
     "data": {
      "image/png": "[encoded data removed]",
      "text/plain": [
       "<Figure size 1440x720 with 1 Axes>"
      ]
     },
     "metadata": {},
     "output_type": "display_data"
    },
    {
     "name": "stdout",
     "output_type": "stream",
     "text": [
      "\n"
     ]
    }
   ],
   "source": [
    "import seaborn as sns\n",
    "acc_scores = [score_nb,score_svm,rf_accuracy,accuracy_lg,score_xgb]\n",
    "algorithms = [\"Naive Bayes\",\"Support Vector Machine\",\"random forest\",\"logistic regression\",\"XGBoost\"]\n",
    "\n",
    "for i in range(len(algorithms)):\n",
    "    print(\"The accuracy score achieved using \"+algorithms[i]+\" is: \"+str(acc_scores[i])+\" %\")\n",
    "\n",
    "sns.set(rc={'figure.figsize':(20,10)})\n",
    "plt.xlabel(\"Algorithms\")\n",
    "plt.ylabel(\"Accuracy score\")\n",
    "sns.barplot(x=algorithms,y=acc_scores)\n",
    "plt.show()\n",
    "\n",
    "print()"
   ]
  },
  {
   "cell_type": "code",
   "execution_count": 43,
   "metadata": {},
   "outputs": [
    {
     "name": "stdout",
     "output_type": "stream",
     "text": [
      "[('XGBoost', 90.31), ('random forest', 90.27), ('Support Vector Machine', 90.06)]\n",
      "Top three models:\n",
      "The accuracy score achieved using XGBoost is: 90.31%\n",
      "The accuracy score achieved using random forest is: 90.27%\n",
      "The accuracy score achieved using Support Vector Machine is: 90.06%\n"
     ]
    }
   ],
   "source": [
    "\n",
    "\n",
    "# Define accuracy scores and algorithms\n",
    "acc_scores = [score_nb, score_svm, rf_accuracy, accuracy_lg, score_xgb]\n",
    "algorithms = [\"Naive Bayes\", \"Support Vector Machine\", \"random forest\", \"logistic regression\", \"XGBoost\"]\n",
    "models = list(zip(algorithms, acc_scores))\n",
    "\n",
    "# Sort the models based on accuracy scores in descending order\n",
    "models_sorted = sorted(models,key=lambda x: x[1], reverse=True)\n",
    "\n",
    "# Select the top three models\n",
    "top_three_models = models_sorted[:3]\n",
    "print(top_three_models)\n",
    "# Print the top three models\n",
    "print(\"Top three models:\")\n",
    "for model, accuracy in top_three_models:\n",
    "    print(f\"The accuracy score achieved using {model} is: {accuracy:.2f}%\")\n"
   ]
  },
  {
   "cell_type": "markdown",
   "metadata": {},
   "source": [
    "# Hard Voting"
   ]
  },
  {
   "cell_type": "code",
   "execution_count": 44,
   "metadata": {},
   "outputs": [
    {
     "name": "stdout",
     "output_type": "stream",
     "text": [
      "[[5698  512]\n",
      " [ 658 5156]]\n"
     ]
    },
    {
     "data": {
      "text/html": [
       "<div>\n",
       "<style scoped>\n",
       "    .dataframe tbody tr th:only-of-type {\n",
       "        vertical-align: middle;\n",
       "    }\n",
       "\n",
       "    .dataframe tbody tr th {\n",
       "        vertical-align: top;\n",
       "    }\n",
       "\n",
       "    .dataframe thead th {\n",
       "        text-align: right;\n",
       "    }\n",
       "</style>\n",
       "<table border=\"1\" class=\"dataframe\">\n",
       "  <thead>\n",
       "    <tr style=\"text-align: right;\">\n",
       "      <th></th>\n",
       "      <th>Model</th>\n",
       "      <th>Accuracy</th>\n",
       "      <th>Precision</th>\n",
       "      <th>Recall</th>\n",
       "      <th>F1 Score</th>\n",
       "      <th>Specificity</th>\n",
       "    </tr>\n",
       "  </thead>\n",
       "  <tbody>\n",
       "    <tr>\n",
       "      <th>0</th>\n",
       "      <td>Hard Voting</td>\n",
       "      <td>0.902695</td>\n",
       "      <td>0.909668</td>\n",
       "      <td>0.886825</td>\n",
       "      <td>0.898101</td>\n",
       "      <td>0.917552</td>\n",
       "    </tr>\n",
       "  </tbody>\n",
       "</table>\n",
       "</div>"
      ],
      "text/plain": [
       "         Model  Accuracy  Precision    Recall  F1 Score  Specificity\n",
       "0  Hard Voting  0.902695   0.909668  0.886825  0.898101     0.917552"
      ]
     },
     "execution_count": 44,
     "metadata": {},
     "output_type": "execute_result"
    }
   ],
   "source": [
    "from sklearn.metrics import confusion_matrix\n",
    "\n",
    "from sklearn.ensemble import VotingClassifier\n",
    "import pickle\n",
    "with open(\"svm_classifier.pkl\", \"rb\") as f:\n",
    "    loaded_svm_model = joblib.load(f)\n",
    "\n",
    "with open(\"rf_gridsearch.pkl\", \"rb\") as f:\n",
    "    loaded_rf_model = joblib.load(f)\n",
    "\n",
    "with open(\"xgb_model.pkl\", \"rb\") as f:\n",
    "    loaded_xgb_model = joblib.load(f)\n",
    "estimators=[('rf',loaded_rf_model),('svm',loaded_svm_model),('xgb',loaded_xgb_model)]\n",
    "#create our voting classifier, inputing our models\n",
    "ensemble = VotingClassifier(estimators, voting='hard')\n",
    "# Train the model\n",
    "ensemble.fit(x_train, y_train)\n",
    "ensemble.score(x_test, y_test)\n",
    "# Make predictions on the test data\n",
    "y_pred_hv = ensemble.predict(x_test)\n",
    "CM_hv=confusion_matrix(y_test,y_pred_hv)\n",
    "print(CM_hv)\n",
    "TN = CM_hv[0][0]\n",
    "FN = CM_hv[1][0]\n",
    "TP = CM_hv[1][1]\n",
    "FP = CM_hv[0][1]\n",
    "specificity = TN/(TN+FP)\n",
    "acc_hv= accuracy_score(y_test, y_pred_hv)\n",
    "prec_hv = precision_score(y_test, y_pred_hv)\n",
    "rec_hv = recall_score(y_test, y_pred_hv)\n",
    "f1s_hv = f1_score(y_test, y_pred_hv)\n",
    "score_hv= round(acc_hv*100,2)\n",
    "precision_hv= round(prec_hv*100,2)\n",
    "recall_hv = round(rec_hv*100,2)\n",
    "f1_hv = round(f1s_hv*100,2)\n",
    "model_results =pd.DataFrame([['Hard Voting',acc_hv, prec_hv,rec_hv,f1s_hv,specificity]],\n",
    "               columns = ['Model', 'Accuracy','Precision', 'Recall', 'F1 Score','Specificity'])\n",
    "model_results"
   ]
  },
  {
   "cell_type": "code",
   "execution_count": 45,
   "metadata": {},
   "outputs": [
    {
     "name": "stdout",
     "output_type": "stream",
     "text": [
      "{'Training Accuracy scores': array([0.90509014, 0.90478121, 0.90690204]), 'Training Precision scores': array([0.91173599, 0.91432879, 0.91271594]), 'Training Recall scores': array([0.89250669, 0.88875438, 0.89544441]), 'Training F1 scores': array([0.90201887, 0.90136021, 0.90399768]), 'Validation Accuracy scores': array([0.90656188, 0.90630653, 0.90175285]), 'Validation Precision scores': array([0.91265921, 0.91185252, 0.9116566 ]), 'Validation Recall scores': array([0.89475025, 0.89511915, 0.88505161]), 'Validation F1 scores': array([0.90361601, 0.90340836, 0.89815713])}\n"
     ]
    }
   ],
   "source": [
    "hv_result = cross_validation(ensemble, x_train, y_train, 3)\n",
    "print(hv_result)"
   ]
  },
  {
   "cell_type": "code",
   "execution_count": 46,
   "metadata": {},
   "outputs": [
    {
     "data": {
      "text/plain": [
       "<function __main__.plot_result(x_label, y_label, plot_title, train_data, val_data)>"
      ]
     },
     "execution_count": 46,
     "metadata": {},
     "output_type": "execute_result"
    }
   ],
   "source": [
    "# Grouped Bar Chart for both training and validation data\n",
    "def plot_result(x_label, y_label, plot_title, train_data, val_data):\n",
    "        # Set size of plot\n",
    "        plt.figure(figsize=(12,3))\n",
    "        labels = [\"1st Fold\", \"2nd Fold\", \"3rd Fold\"]\n",
    "        X_axis = np.arange(len(labels))\n",
    "        ax = plt.gca()\n",
    "        plt.ylim(0.40000, 1)\n",
    "        plt.bar(X_axis-0.2, train_data, 0.4, color='blue', label='Training')\n",
    "        plt.bar(X_axis+0.2, val_data, 0.4, color='red', label='Validation')\n",
    "        plt.title(plot_title, fontsize=30)\n",
    "        plt.xticks(X_axis, labels)\n",
    "        plt.xlabel(x_label, fontsize=14)\n",
    "        plt.ylabel(y_label, fontsize=14)\n",
    "        plt.show()\n",
    "plot_result"
   ]
  },
  {
   "cell_type": "code",
   "execution_count": 47,
   "metadata": {},
   "outputs": [
    {
     "data": {
      "image/png": "[encoded data removed]",
      "text/plain": [
       "<Figure size 864x216 with 1 Axes>"
      ]
     },
     "metadata": {},
     "output_type": "display_data"
    },
    {
     "name": "stdout",
     "output_type": "stream",
     "text": [
      "The accuracy score achieved using  is: 90.27 %\n"
     ]
    }
   ],
   "source": [
    "model_name = \"hard Voting\"\n",
    "plot_result(model_name,\n",
    "            \"Accuracy\",\n",
    "            \"Accuracy scores in 3 Folds\",\n",
    "            hv_result[\"Training Accuracy scores\"],\n",
    "            hv_result[\"Validation Accuracy scores\"])\n",
    "print(\"The accuracy score achieved using  is: \"+str(score_hv)+\" %\")\n"
   ]
  },
  {
   "cell_type": "code",
   "execution_count": 48,
   "metadata": {},
   "outputs": [
    {
     "name": "stdout",
     "output_type": "stream",
     "text": [
      "ensemble model saved to ensemble.pkl\n"
     ]
    }
   ],
   "source": [
    "import pickle\n",
    "import joblib\n",
    "\n",
    "# Assuming your ensemble model is stored in a variable called 'ensemble_model'\n",
    "# Save the model to a file\n",
    "filename=\"ensemble.pkl\"\n",
    "with open('ensemble.pkl', 'wb') as f:\n",
    "    joblib.dump(ensemble, f)\n",
    "print(\"ensemble model saved to\",filename)"
   ]
  },
  {
   "cell_type": "code",
   "execution_count": 49,
   "metadata": {},
   "outputs": [
    {
     "name": "stdout",
     "output_type": "stream",
     "text": [
      "Predicted class: [1]\n"
     ]
    },
    {
     "name": "stderr",
     "output_type": "stream",
     "text": [
      "c:\\Users\\MEESALA RAMYA\\anaconda3\\lib\\site-packages\\sklearn\\base.py:409: UserWarning: X does not have valid feature names, but RandomForestClassifier was fitted with feature names\n",
      "  warnings.warn(\n",
      "c:\\Users\\MEESALA RAMYA\\anaconda3\\lib\\site-packages\\sklearn\\base.py:409: UserWarning: X does not have valid feature names, but SVC was fitted with feature names\n",
      "  warnings.warn(\n"
     ]
    }
   ],
   "source": [
    "single_instance_prediction = ensemble.predict(np.array([[0,1,1,0,3,4]]))\n",
    "\n",
    "print(\"Predicted class:\", single_instance_prediction)"
   ]
  },
  {
   "cell_type": "code",
   "execution_count": 56,
   "metadata": {},
   "outputs": [
    {
     "name": "stdout",
     "output_type": "stream",
     "text": [
      "Name: scikit-learn\n",
      "Version: 1.2.0\n",
      "Summary: A set of python modules for machine learning and data mining\n",
      "Home-page: http://scikit-learn.org\n",
      "Author: \n",
      "Author-email: \n",
      "License: new BSD\n",
      "Location: c:\\users\\meesala ramya\\anaconda3\\lib\\site-packages\n",
      "Requires: numpy, scipy, joblib, threadpoolctl\n",
      "Required-by: kmodes, scikit-learn-intelex\n",
      "Note: you may need to restart the kernel to use updated packages.\n"
     ]
    },
    {
     "name": "stderr",
     "output_type": "stream",
     "text": [
      "WARNING: Ignoring invalid distribution -cikit-learn (c:\\users\\meesala ramya\\anaconda3\\lib\\site-packages)\n",
      "WARNING: Ignoring invalid distribution -atplotlib (c:\\users\\meesala ramya\\anaconda3\\lib\\site-packages)\n"
     ]
    }
   ],
   "source": [
    "pip show scikit-learn"
   ]
  }
 ],
 "metadata": {
  "kernelspec": {
   "display_name": "base",
   "language": "python",
   "name": "python3"
  },
  "language_info": {
   "codemirror_mode": {
    "name": "ipython",
    "version": 3
   },
   "file_extension": ".py",
   "mimetype": "text/x-python",
   "name": "python",
   "nbconvert_exporter": "python",
   "pygments_lexer": "ipython3",
   "version": "3.9.7"
  }
 },
 "nbformat": 4,
 "nbformat_minor": 2
}
